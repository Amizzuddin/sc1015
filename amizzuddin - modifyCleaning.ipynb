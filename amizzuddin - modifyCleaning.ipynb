{
 "cells": [
  {
   "cell_type": "code",
   "execution_count": 52,
   "metadata": {},
   "outputs": [],
   "source": [
    "import pandas as pd\n",
    "import numpy as np\n",
    "import seaborn as sb\n",
    "import matplotlib.pyplot as plt\n",
    "from typing import List\n",
    "sb.set()"
   ]
  },
  {
   "cell_type": "markdown",
   "metadata": {},
   "source": [
    "# Exploratory Data Analysis Functions"
   ]
  },
  {
   "cell_type": "markdown",
   "metadata": {},
   "source": [
    "## get_dataset_raw()\n",
    "- inputs: None\n",
    "- returns: Dataframe\n",
    "- description: \n",
    "    - import data from dataset/Course_info.csv and convert to dataframe \n",
    "    - change the dataframe features/columns types to the appropiate types\n",
    "- remarks: if there is a change of dataset, there will be a need to do some modification to the function."
   ]
  },
  {
   "cell_type": "code",
   "execution_count": 53,
   "metadata": {},
   "outputs": [],
   "source": [
    "def get_dataset_raw() -> pd.DataFrame:\n",
    "    dataset_folder_path: str = \"dataset\"\n",
    "    dataset_name: str = \"Course_info.csv\"\n",
    "    csv_data: pd.DataFrame = pd.read_csv(f\"{dataset_folder_path}/{dataset_name}\")\n",
    "\n",
    "    # Assign the features to the correct datatype\n",
    "    csv_data['id'] = csv_data['id'].astype(int)\n",
    "    csv_data['num_subscribers'] = csv_data['num_subscribers'].astype(int)\n",
    "    csv_data['num_reviews'] = csv_data['num_reviews'].astype(int)\n",
    "    csv_data['num_comments'] = csv_data['num_comments'].astype(int)\n",
    "    csv_data['num_lectures'] = csv_data['num_lectures'].astype(int)\n",
    "    csv_data['content_length_min'] = csv_data['content_length_min'].astype(int)\n",
    "    csv_data['published_time'] = pd.to_datetime(csv_data['published_time'])\n",
    "    csv_data['last_update_date'] = pd.to_datetime(csv_data['last_update_date'])\n",
    "    csv_data['category'] = csv_data['category'].astype('category')\n",
    "    csv_data['subcategory'] = csv_data['subcategory'].astype('category')\n",
    "    csv_data['language'] = csv_data['language'].astype('category')\n",
    "    \n",
    "    return csv_data"
   ]
  },
  {
   "cell_type": "markdown",
   "metadata": {},
   "source": [
    "## clean_up_dataset()\n",
    "- input: Dataframe\n",
    "- returns: clean up Dataframe\n",
    "- description: Function cleans up the dataset such as\n",
    "    - set uppercase of the feature (column) labels\n",
    "    - find NAN, NULL and NAT samples and remove them\n",
    "    - remove 0 price\n",
    "- remarks: **INCOMPLETE**"
   ]
  },
  {
   "cell_type": "code",
   "execution_count": 54,
   "metadata": {},
   "outputs": [],
   "source": [
    "def clean_up_dataset(dataframe: pd.DataFrame) -> pd.DataFrame:\n",
    "    total_rows = dataframe.shape[0]\n",
    "    print(f\"Total samples: {total_rows}\")\n",
    "    #remove price = 0\n",
    "    #dataframe=  pd.DataFrame(dataframe[rawcoursedata['price'] != 0])\n",
    "    dataframe = dataframe[dataframe['price'] != 0]\n",
    "    \n",
    "\n",
    "    # total_duplicated_ids = dataframe[dataframe.duplicated('id', keep=False)]\n",
    "    # print(f\"Course with duplicated ids: {len(total_duplicated_ids)}\")\n",
    "    #add condition if there is duplicates\n",
    "\n",
    "    # display the null values for each column\n",
    "    print(dataframe.isnull().sum())\n",
    "    \n",
    "    # for column in dataframe.columns:\n",
    "    #     print(f\"{column}: {type(column)} -> {dataframe[column].dtype}, {dataframe[column].isnull().sum()}\")\n",
    "\n",
    "    #     if dataframe[column].isnull().sum() == 0:\n",
    "    #         continue\n",
    "        \n",
    "    #     if pd.api.types.is_datetime64_dtype(dataframe[column]):\n",
    "    #         print(f\"is_datetime64\")\n",
    "    #         dataframe[column].fillna(value=\"NoUpdates\")\n",
    "    \n",
    "    return dataframe"
   ]
  },
  {
   "cell_type": "code",
   "execution_count": null,
   "metadata": {},
   "outputs": [],
   "source": []
  },
  {
   "cell_type": "markdown",
   "metadata": {},
   "source": [
    "## generate_numerical_eda_visualization()\n",
    "- inputs: \n",
    "    - dataframe\n",
    "    - List of catergorical features/columns which are numerical types\n",
    "    - plot title\n",
    "- returns: None\n",
    "- description: generates box, histo and violin plot for every numerical features (column) of the dataset\n",
    "- remakrs: None"
   ]
  },
  {
   "cell_type": "code",
   "execution_count": 55,
   "metadata": {},
   "outputs": [],
   "source": [
    "def generate_numerical_eda_visualization(\n",
    "        dataframe: pd.DataFrame,\n",
    "        catergorical_column: List[str],\n",
    "        plot_title: str\n",
    "    ):\n",
    "    \n",
    "    numerical_dataframe = dataframe.select_dtypes(include=['int64', 'float64'])\n",
    "    numerical_dataframe = numerical_dataframe.drop(columns=catergorical_column)\n",
    "\n",
    "    total_features = len(numerical_dataframe.columns)\n",
    "    figure, axes = plt.subplots(\n",
    "        total_features, \n",
    "        3, \n",
    "        figsize=(24,4.8*total_features)\n",
    "    )\n",
    "    count = 0\n",
    "    \n",
    "    # figure.suptitle(plot_title, fontsize=10)\n",
    "    axes[0, 1].set_title(plot_title)\n",
    "\n",
    "    for column in numerical_dataframe.columns:\n",
    "        sb.boxplot(data=numerical_dataframe[column], orient='h', ax=axes[count,0])\n",
    "        sb.histplot(data=numerical_dataframe[column], ax=axes[count,1])\n",
    "        sb.violinplot(data=numerical_dataframe[column], orient='h', ax=axes[count,2])\n",
    "        count = count + 1"
   ]
  },
  {
   "cell_type": "markdown",
   "metadata": {},
   "source": [
    "## get_outlier_samples()\n",
    "- inputs: Dataframe\n",
    "- returns: Series of outliers based on supplied dataframe\n",
    "- description: identify the outliers based on the supplied dataframe\n",
    "- remakrs: None"
   ]
  },
  {
   "cell_type": "code",
   "execution_count": 56,
   "metadata": {},
   "outputs": [],
   "source": [
    "def get_outlier_samples(dataframe: pd.DataFrame) -> pd.core.series.Series:\n",
    "\n",
    "    q1 = dataframe.quantile(0.25)\n",
    "    q3 = dataframe.quantile(0.75)\n",
    "    interquartile_range = q3-q1\n",
    "\n",
    "    lower_whisker = q1-1.5*interquartile_range\n",
    "    upper_whisker = q3+1.5*interquartile_range\n",
    "    outliers: pd.core.series.Series = ((dataframe < lower_whisker) | (dataframe > upper_whisker))\n",
    "\n",
    "    return outliers"
   ]
  },
  {
   "cell_type": "markdown",
   "metadata": {},
   "source": [
    "## print_feature_outliers()\n",
    "- inputs:\n",
    "    - Dataframe\n",
    "    - List of catergorical features/columns which are numerical types\n",
    "- returns: None\n",
    "- description: prints number of outliers for every numerical features/column\n",
    "- remarks: None"
   ]
  },
  {
   "cell_type": "code",
   "execution_count": 57,
   "metadata": {},
   "outputs": [],
   "source": [
    "def print_feature_outliers(\n",
    "        dataframe: pd.DataFrame, \n",
    "        catergorical_column: List[str]\n",
    "    ):\n",
    "\n",
    "    numerical_dataframe = dataframe.select_dtypes(include=['int64', 'float64'])\n",
    "    numerical_dataframe = numerical_dataframe.drop(columns=catergorical_column)\n",
    "\n",
    "    for column in numerical_dataframe.columns:\n",
    "\n",
    "        outliers = sum(get_outlier_samples(numerical_dataframe[column]))\n",
    "        print(f\"[{column}] total outliers: {outliers}\")"
   ]
  },
  {
   "cell_type": "markdown",
   "metadata": {},
   "source": [
    "## remove_outliers()\n",
    "- inputs:\n",
    "    - Dataframe\n",
    "    - List of catergorical features/columns which are numerical types\n",
    "- returns: Dataframe with outliers removed\n",
    "- description: Function remove **UNION** outlier of the dataset. In other words remove the entire row containing outliers\n",
    "- remarks: None"
   ]
  },
  {
   "cell_type": "code",
   "execution_count": 58,
   "metadata": {},
   "outputs": [],
   "source": [
    "def remove_outliers(\n",
    "        dataframe: pd.DataFrame, \n",
    "        catergorical_column: List[str]\n",
    "    ) -> pd.DataFrame:\n",
    "\n",
    "    numerical_dataframe = dataframe.select_dtypes(include=['int64', 'float64'])\n",
    "    numerical_dataframe = numerical_dataframe.drop(columns=catergorical_column)\n",
    "\n",
    "    union_outliers = (get_outlier_samples(numerical_dataframe)).any(axis=1)\n",
    "    # print(f\"Total 'UNION' outliers: {sum(union_outliers)}\")\n",
    "    dataframe_with_outliers_removed: pd.DataFrame = dataframe[~union_outliers].reset_index(drop=True)\n",
    "    return dataframe_with_outliers_removed"
   ]
  },
  {
   "cell_type": "markdown",
   "metadata": {},
   "source": [
    "## generate_categorical_count_visualization()\n",
    "- inputs: Dataframe\n",
    "- returns: None\n",
    "- description: generates categorical plot for every catergorical features (column) of the dataset\n",
    "- remakrs: None"
   ]
  },
  {
   "cell_type": "code",
   "execution_count": 59,
   "metadata": {},
   "outputs": [],
   "source": [
    "def generate_categorical_count_visualization(dataframe: pd.DataFrame):\n",
    "    \n",
    "    categorical_dataframe = dataframe.select_dtypes(include=['category'])\n",
    "\n",
    "    for column in categorical_dataframe.columns:\n",
    "        category_total_types = len(dataframe[column].value_counts())        \n",
    "        sb.catplot(y=column, data=categorical_dataframe, kind=\"count\", height=category_total_types)"
   ]
  },
  {
   "cell_type": "markdown",
   "metadata": {},
   "source": [
    "## generate_categorical_eda_visualization()\n",
    "- inputs: \n",
    "    - dataframe\n",
    "    - y_axis: numerical feature\n",
    "    - x_axis: catergorical feature\n",
    "    - plot title\n",
    "- returns: None\n",
    "- description: generates categorical plot for every catergorical features (column) of the dataset\n",
    "- remarks: None"
   ]
  },
  {
   "cell_type": "code",
   "execution_count": 60,
   "metadata": {},
   "outputs": [],
   "source": [
    "def generate_categorical_eda_visualization(\n",
    "        dataframe: pd.DataFrame,\n",
    "        y_axis: str,\n",
    "        x_axis: str,\n",
    "        plot_title: str\n",
    "    ):\n",
    "\n",
    "    # category_total_types = len(dataframe[x_axis].value_counts()) \n",
    "    figure = plt.figure(figsize=(20,8))\n",
    "    figure.suptitle(plot_title)\n",
    "    figure.tight_layout()\n",
    "    sb_plot = sb.boxplot(y=y_axis, x=x_axis, data=dataframe, order=dataframe.groupby(x_axis)[y_axis].median().sort_values().index)\n",
    "    sb_plot.set_xticklabels(sb_plot.get_xticklabels(), rotation=40, ha='right')"
   ]
  },
  {
   "cell_type": "markdown",
   "metadata": {},
   "source": [
    "## generate_numerical_heatmap()\n",
    "- inputs: \n",
    "    - dataframe\n",
    "    - List of catergorical features/columns which are numerical types\n",
    "    - plot title\n",
    "- returns: None\n",
    "- description: generates heatmap for every numerical features (column) of the dataset\n",
    "- remarks: None"
   ]
  },
  {
   "cell_type": "code",
   "execution_count": 61,
   "metadata": {},
   "outputs": [],
   "source": [
    "def generate_numerical_heatmap(\n",
    "        dataframe: pd.DataFrame,\n",
    "        catergorical_column: List[str],\n",
    "        plot_title: str\n",
    "    ):\n",
    "    \n",
    "    numerical_dataframe = dataframe.select_dtypes(include=['int64', 'float64'])\n",
    "    numerical_dataframe = numerical_dataframe.drop(columns=catergorical_column)\n",
    "\n",
    "    figure = plt.figure(figsize=(13, 13))\n",
    "    figure.suptitle(plot_title)\n",
    "    sb.heatmap(numerical_dataframe.corr(), vmin = -1, vmax = 1, linewidths = 1,\n",
    "            annot = True, fmt = \".2f\", annot_kws = {\"size\": 18}, cmap = \"RdBu\")"
   ]
  },
  {
   "cell_type": "markdown",
   "metadata": {},
   "source": [
    "## generate_categorical_based_on_numerical_feature_heatmap\n",
    "- inputs: \n",
    "    - dataframe\n",
    "    - y_axis: numerical feature\n",
    "    - x_axis: catergorical feature\n",
    "    - numerical_feature: the numerical feature to associate with different type of x and y axis\n",
    "    - plot title\n",
    "- returns: None\n",
    "- description: generates categorical plot for every catergorical features (column) of the dataset\n",
    "- remarks: None"
   ]
  },
  {
   "cell_type": "code",
   "execution_count": 62,
   "metadata": {},
   "outputs": [],
   "source": [
    "def generate_categorical_based_on_numerical_feature_heatmap(\n",
    "       dataframe: pd.DataFrame,\n",
    "       y_axis: str,\n",
    "       x_axis: str,\n",
    "       numerical_feature: str,\n",
    "       plot_title: str\n",
    "    ):\n",
    "\n",
    "    total_means = dataframe.groupby([y_axis, x_axis]).mean().loc[:, numerical_feature]\n",
    "\n",
    "    # Display the TOP numerical feature in each pair type -- top 20\n",
    "    print(total_means.reset_index().sort_values(numerical_feature, ascending=False).head(20).round(2))\n",
    "\n",
    "\n",
    "    x_axis_total_types = len(dataframe[x_axis].value_counts())\n",
    "    y_axis_total_types = len(dataframe[y_axis].value_counts()) \n",
    "    figure = plt.figure(figsize=(x_axis_total_types, y_axis_total_types))\n",
    "    figure.suptitle(plot_title)\n",
    "    figure.tight_layout()\n",
    "    sb_plot = sb.heatmap(total_means.unstack(), linewidths = 1,\n",
    "           annot = True, fmt = \".0f\", annot_kws = {\"size\": 18}, cmap = \"BuGn\")\n",
    "    sb_plot.set_xticklabels(sb_plot.get_xticklabels(), rotation=90, ha='right')"
   ]
  },
  {
   "cell_type": "markdown",
   "metadata": {},
   "source": [
    "# Exploratory Data Analysis\n",
    "- Objective: Perform EDA on dataset while ensure that all function is working fine\n",
    "- Motivation of Analysis: The type course catergory will impact the number of subscribers, price and average rating "
   ]
  },
  {
   "cell_type": "code",
   "execution_count": 63,
   "metadata": {},
   "outputs": [
    {
     "name": "stdout",
     "output_type": "stream",
     "text": [
      "<class 'pandas.core.frame.DataFrame'>\n",
      "RangeIndex: 209734 entries, 0 to 209733\n",
      "Data columns (total 20 columns):\n",
      " #   Column              Non-Null Count   Dtype              \n",
      "---  ------              --------------   -----              \n",
      " 0   id                  209734 non-null  int32              \n",
      " 1   title               209734 non-null  object             \n",
      " 2   is_paid             209734 non-null  bool               \n",
      " 3   price               209734 non-null  float64            \n",
      " 4   headline            209707 non-null  object             \n",
      " 5   num_subscribers     209734 non-null  int32              \n",
      " 6   avg_rating          209734 non-null  float64            \n",
      " 7   num_reviews         209734 non-null  int32              \n",
      " 8   num_comments        209734 non-null  int32              \n",
      " 9   num_lectures        209734 non-null  int32              \n",
      " 10  content_length_min  209734 non-null  int32              \n",
      " 11  published_time      209734 non-null  datetime64[ns, UTC]\n",
      " 12  last_update_date    209597 non-null  datetime64[ns]     \n",
      " 13  category            209734 non-null  category           \n",
      " 14  subcategory         209734 non-null  category           \n",
      " 15  topic               208776 non-null  object             \n",
      " 16  language            209734 non-null  category           \n",
      " 17  course_url          209734 non-null  object             \n",
      " 18  instructor_name     209729 non-null  object             \n",
      " 19  instructor_url      209307 non-null  object             \n",
      "dtypes: bool(1), category(3), datetime64[ns, UTC](1), datetime64[ns](1), float64(2), int32(6), object(6)\n",
      "memory usage: 21.8+ MB\n"
     ]
    }
   ],
   "source": [
    "DatasetRaw = get_dataset_raw()\n",
    "DatasetRaw.info()"
   ]
  },
  {
   "cell_type": "code",
   "execution_count": 64,
   "metadata": {},
   "outputs": [],
   "source": [
    "# removing \n",
    "# 'id' cause doesn't have any significant importance to EDA\n",
    "# 'instructor_name' cause there is NULL value\n",
    "# 'published_time' cause its time series\n",
    "# 'last_update_date' cause there is null value and not so simeple to do EDA\n",
    "# 'num_reviews' cause doesnt seem to have any impact given we have average rating\n",
    "# 'num_comments' cause doesnt seem to have any impact given we have average rating\n",
    "# 'subcategory' have yet to decide if there is any need due to large number of types \n",
    "# 'language' have yet to decide if this matter at the time of doing this EDA \n",
    "ExtractedDataset = pd.DataFrame(\n",
    "    DatasetRaw[[\n",
    "        'price', \n",
    "        'num_subscribers', \n",
    "        'avg_rating', \n",
    "        'num_lectures',\n",
    "        'content_length_min', \n",
    "        'category',\n",
    "        'subcategory'\n",
    "    ]]\n",
    ")"
   ]
  },
  {
   "cell_type": "code",
   "execution_count": 65,
   "metadata": {},
   "outputs": [
    {
     "name": "stdout",
     "output_type": "stream",
     "text": [
      "Data type :  <class 'pandas.core.frame.DataFrame'>\n",
      "price                  float64\n",
      "num_subscribers          int32\n",
      "avg_rating             float64\n",
      "num_lectures             int32\n",
      "content_length_min       int32\n",
      "category              category\n",
      "subcategory           category\n",
      "dtype: object\n",
      "Data dims :  (209734, 7)\n"
     ]
    }
   ],
   "source": [
    "print(\"Data type : \", type(ExtractedDataset))\n",
    "print(ExtractedDataset.dtypes)\n",
    "print(\"Data dims : \", ExtractedDataset.shape)"
   ]
  },
  {
   "cell_type": "code",
   "execution_count": 66,
   "metadata": {},
   "outputs": [
    {
     "name": "stdout",
     "output_type": "stream",
     "text": [
      "Total samples: 209734\n",
      "price                 0\n",
      "num_subscribers       0\n",
      "avg_rating            0\n",
      "num_lectures          0\n",
      "content_length_min    0\n",
      "category              0\n",
      "subcategory           0\n",
      "dtype: int64\n"
     ]
    }
   ],
   "source": [
    "CleanDataset = clean_up_dataset(ExtractedDataset)"
   ]
  },
  {
   "cell_type": "code",
   "execution_count": 67,
   "metadata": {},
   "outputs": [
    {
     "name": "stdout",
     "output_type": "stream",
     "text": [
      "Data type :  <class 'pandas.core.frame.DataFrame'>\n",
      "price                  float64\n",
      "num_subscribers          int32\n",
      "avg_rating             float64\n",
      "num_lectures             int32\n",
      "content_length_min       int32\n",
      "category              category\n",
      "subcategory           category\n",
      "dtype: object\n",
      "Data dims :  (187996, 7)\n"
     ]
    }
   ],
   "source": [
    "print(\"Data type : \", type(CleanDataset))\n",
    "print(CleanDataset.dtypes)\n",
    "print(\"Data dims : \", CleanDataset.shape)"
   ]
  },
  {
   "cell_type": "code",
   "execution_count": 68,
   "metadata": {},
   "outputs": [
    {
     "data": {
      "text/html": [
       "<div>\n",
       "<style scoped>\n",
       "    .dataframe tbody tr th:only-of-type {\n",
       "        vertical-align: middle;\n",
       "    }\n",
       "\n",
       "    .dataframe tbody tr th {\n",
       "        vertical-align: top;\n",
       "    }\n",
       "\n",
       "    .dataframe thead th {\n",
       "        text-align: right;\n",
       "    }\n",
       "</style>\n",
       "<table border=\"1\" class=\"dataframe\">\n",
       "  <thead>\n",
       "    <tr style=\"text-align: right;\">\n",
       "      <th></th>\n",
       "      <th>price</th>\n",
       "      <th>num_subscribers</th>\n",
       "      <th>avg_rating</th>\n",
       "      <th>num_lectures</th>\n",
       "      <th>content_length_min</th>\n",
       "      <th>category</th>\n",
       "      <th>subcategory</th>\n",
       "    </tr>\n",
       "  </thead>\n",
       "  <tbody>\n",
       "    <tr>\n",
       "      <th>0</th>\n",
       "      <td>24.99</td>\n",
       "      <td>2231</td>\n",
       "      <td>3.75000</td>\n",
       "      <td>37</td>\n",
       "      <td>1268</td>\n",
       "      <td>Lifestyle</td>\n",
       "      <td>Food &amp; Beverage</td>\n",
       "    </tr>\n",
       "    <tr>\n",
       "      <th>2</th>\n",
       "      <td>19.99</td>\n",
       "      <td>1713</td>\n",
       "      <td>4.40000</td>\n",
       "      <td>14</td>\n",
       "      <td>82</td>\n",
       "      <td>Lifestyle</td>\n",
       "      <td>Other Lifestyle</td>\n",
       "    </tr>\n",
       "    <tr>\n",
       "      <th>3</th>\n",
       "      <td>199.99</td>\n",
       "      <td>4988</td>\n",
       "      <td>4.80000</td>\n",
       "      <td>36</td>\n",
       "      <td>1511</td>\n",
       "      <td>Lifestyle</td>\n",
       "      <td>Pet Care &amp; Training</td>\n",
       "    </tr>\n",
       "    <tr>\n",
       "      <th>4</th>\n",
       "      <td>159.99</td>\n",
       "      <td>1266</td>\n",
       "      <td>4.75000</td>\n",
       "      <td>38</td>\n",
       "      <td>569</td>\n",
       "      <td>Design</td>\n",
       "      <td>Web Design</td>\n",
       "    </tr>\n",
       "    <tr>\n",
       "      <th>5</th>\n",
       "      <td>29.99</td>\n",
       "      <td>20505</td>\n",
       "      <td>4.53012</td>\n",
       "      <td>31</td>\n",
       "      <td>1163</td>\n",
       "      <td>Health &amp; Fitness</td>\n",
       "      <td>Yoga</td>\n",
       "    </tr>\n",
       "    <tr>\n",
       "      <th>...</th>\n",
       "      <td>...</td>\n",
       "      <td>...</td>\n",
       "      <td>...</td>\n",
       "      <td>...</td>\n",
       "      <td>...</td>\n",
       "      <td>...</td>\n",
       "      <td>...</td>\n",
       "    </tr>\n",
       "    <tr>\n",
       "      <th>209729</th>\n",
       "      <td>19.99</td>\n",
       "      <td>3</td>\n",
       "      <td>0.00000</td>\n",
       "      <td>5</td>\n",
       "      <td>54</td>\n",
       "      <td>Teaching &amp; Academics</td>\n",
       "      <td>Language Learning</td>\n",
       "    </tr>\n",
       "    <tr>\n",
       "      <th>209730</th>\n",
       "      <td>49.99</td>\n",
       "      <td>0</td>\n",
       "      <td>0.00000</td>\n",
       "      <td>0</td>\n",
       "      <td>0</td>\n",
       "      <td>IT &amp; Software</td>\n",
       "      <td>IT Certifications</td>\n",
       "    </tr>\n",
       "    <tr>\n",
       "      <th>209731</th>\n",
       "      <td>49.99</td>\n",
       "      <td>0</td>\n",
       "      <td>0.00000</td>\n",
       "      <td>0</td>\n",
       "      <td>0</td>\n",
       "      <td>IT &amp; Software</td>\n",
       "      <td>IT Certifications</td>\n",
       "    </tr>\n",
       "    <tr>\n",
       "      <th>209732</th>\n",
       "      <td>119.99</td>\n",
       "      <td>0</td>\n",
       "      <td>0.00000</td>\n",
       "      <td>9</td>\n",
       "      <td>82</td>\n",
       "      <td>Finance &amp; Accounting</td>\n",
       "      <td>Other Finance &amp; Accounting</td>\n",
       "    </tr>\n",
       "    <tr>\n",
       "      <th>209733</th>\n",
       "      <td>49.99</td>\n",
       "      <td>0</td>\n",
       "      <td>0.00000</td>\n",
       "      <td>0</td>\n",
       "      <td>0</td>\n",
       "      <td>IT &amp; Software</td>\n",
       "      <td>IT Certifications</td>\n",
       "    </tr>\n",
       "  </tbody>\n",
       "</table>\n",
       "<p>187996 rows × 7 columns</p>\n",
       "</div>"
      ],
      "text/plain": [
       "         price  num_subscribers  avg_rating  num_lectures  content_length_min  \\\n",
       "0        24.99             2231     3.75000            37                1268   \n",
       "2        19.99             1713     4.40000            14                  82   \n",
       "3       199.99             4988     4.80000            36                1511   \n",
       "4       159.99             1266     4.75000            38                 569   \n",
       "5        29.99            20505     4.53012            31                1163   \n",
       "...        ...              ...         ...           ...                 ...   \n",
       "209729   19.99                3     0.00000             5                  54   \n",
       "209730   49.99                0     0.00000             0                   0   \n",
       "209731   49.99                0     0.00000             0                   0   \n",
       "209732  119.99                0     0.00000             9                  82   \n",
       "209733   49.99                0     0.00000             0                   0   \n",
       "\n",
       "                    category                 subcategory  \n",
       "0                  Lifestyle             Food & Beverage  \n",
       "2                  Lifestyle             Other Lifestyle  \n",
       "3                  Lifestyle         Pet Care & Training  \n",
       "4                     Design                  Web Design  \n",
       "5           Health & Fitness                        Yoga  \n",
       "...                      ...                         ...  \n",
       "209729  Teaching & Academics           Language Learning  \n",
       "209730         IT & Software           IT Certifications  \n",
       "209731         IT & Software           IT Certifications  \n",
       "209732  Finance & Accounting  Other Finance & Accounting  \n",
       "209733         IT & Software           IT Certifications  \n",
       "\n",
       "[187996 rows x 7 columns]"
      ]
     },
     "execution_count": 68,
     "metadata": {},
     "output_type": "execute_result"
    }
   ],
   "source": [
    "CleanDataset"
   ]
  },
  {
   "cell_type": "code",
   "execution_count": 69,
   "metadata": {},
   "outputs": [
    {
     "ename": "IndexError",
     "evalue": "too many indices for array",
     "output_type": "error",
     "traceback": [
      "\u001b[1;31m---------------------------------------------------------------------------\u001b[0m",
      "\u001b[1;31mIndexError\u001b[0m                                Traceback (most recent call last)",
      "\u001b[1;32m<ipython-input-69-9530dbf90167>\u001b[0m in \u001b[0;36m<module>\u001b[1;34m\u001b[0m\n\u001b[0;32m      1\u001b[0m \u001b[0mcategorical_data_in_numeric\u001b[0m \u001b[1;33m=\u001b[0m \u001b[1;33m[\u001b[0m\u001b[1;34m'avg_rating'\u001b[0m\u001b[1;33m]\u001b[0m\u001b[1;33m\u001b[0m\u001b[1;33m\u001b[0m\u001b[0m\n\u001b[1;32m----> 2\u001b[1;33m \u001b[0mgenerate_numerical_eda_visualization\u001b[0m\u001b[1;33m(\u001b[0m\u001b[0mCleanDataset\u001b[0m\u001b[1;33m,\u001b[0m \u001b[0mcategorical_data_in_numeric\u001b[0m\u001b[1;33m,\u001b[0m \u001b[1;34m\"[RAW] Numerical EDA\"\u001b[0m\u001b[1;33m)\u001b[0m\u001b[1;33m\u001b[0m\u001b[1;33m\u001b[0m\u001b[0m\n\u001b[0m",
      "\u001b[1;32m<ipython-input-55-cbb03e651cbe>\u001b[0m in \u001b[0;36mgenerate_numerical_eda_visualization\u001b[1;34m(dataframe, catergorical_column, plot_title)\u001b[0m\n\u001b[0;32m     17\u001b[0m \u001b[1;33m\u001b[0m\u001b[0m\n\u001b[0;32m     18\u001b[0m     \u001b[1;31m# figure.suptitle(plot_title, fontsize=10)\u001b[0m\u001b[1;33m\u001b[0m\u001b[1;33m\u001b[0m\u001b[1;33m\u001b[0m\u001b[0m\n\u001b[1;32m---> 19\u001b[1;33m     \u001b[0maxes\u001b[0m\u001b[1;33m[\u001b[0m\u001b[1;36m0\u001b[0m\u001b[1;33m,\u001b[0m \u001b[1;36m1\u001b[0m\u001b[1;33m]\u001b[0m\u001b[1;33m.\u001b[0m\u001b[0mset_title\u001b[0m\u001b[1;33m(\u001b[0m\u001b[0mplot_title\u001b[0m\u001b[1;33m)\u001b[0m\u001b[1;33m\u001b[0m\u001b[1;33m\u001b[0m\u001b[0m\n\u001b[0m\u001b[0;32m     20\u001b[0m \u001b[1;33m\u001b[0m\u001b[0m\n\u001b[0;32m     21\u001b[0m     \u001b[1;32mfor\u001b[0m \u001b[0mcolumn\u001b[0m \u001b[1;32min\u001b[0m \u001b[0mnumerical_dataframe\u001b[0m\u001b[1;33m.\u001b[0m\u001b[0mcolumns\u001b[0m\u001b[1;33m:\u001b[0m\u001b[1;33m\u001b[0m\u001b[1;33m\u001b[0m\u001b[0m\n",
      "\u001b[1;31mIndexError\u001b[0m: too many indices for array"
     ]
    },
    {
     "data": {
      "image/png": "[encoded data removed]",
      "text/plain": [
       "<Figure size 1728x345.6 with 3 Axes>"
      ]
     },
     "metadata": {},
     "output_type": "display_data"
    }
   ],
   "source": [
    "categorical_data_in_numeric = ['avg_rating']\n",
    "generate_numerical_eda_visualization(CleanDataset, categorical_data_in_numeric, \"[RAW] Numerical EDA\")"
   ]
  },
  {
   "cell_type": "code",
   "execution_count": null,
   "metadata": {},
   "outputs": [],
   "source": [
    "print_feature_outliers(CleanDataset, categorical_data_in_numeric)"
   ]
  },
  {
   "cell_type": "code",
   "execution_count": null,
   "metadata": {},
   "outputs": [],
   "source": [
    "RemovedOutlierDataset = remove_outliers(CleanDataset, categorical_data_in_numeric)"
   ]
  },
  {
   "cell_type": "code",
   "execution_count": null,
   "metadata": {},
   "outputs": [],
   "source": [
    "generate_numerical_eda_visualization(RemovedOutlierDataset, categorical_data_in_numeric, \"[UNION outliers removed] Numerical EDA\")"
   ]
  },
  {
   "cell_type": "code",
   "execution_count": null,
   "metadata": {},
   "outputs": [],
   "source": [
    "generate_categorical_count_visualization(RemovedOutlierDataset)"
   ]
  },
  {
   "cell_type": "code",
   "execution_count": null,
   "metadata": {},
   "outputs": [],
   "source": [
    "generate_categorical_eda_visualization(RemovedOutlierDataset, 'num_subscribers', 'category', '[UNION outliers removed] num_subscriber VS category')"
   ]
  },
  {
   "cell_type": "code",
   "execution_count": null,
   "metadata": {},
   "outputs": [],
   "source": [
    "generate_categorical_eda_visualization(RemovedOutlierDataset, 'avg_rating', 'category', '[UNION outliers removed] avg_rating VS category')"
   ]
  },
  {
   "cell_type": "code",
   "execution_count": null,
   "metadata": {},
   "outputs": [],
   "source": [
    "generate_categorical_eda_visualization(RemovedOutlierDataset, 'price', 'category', '[UNION outliers removed] price VS category')"
   ]
  },
  {
   "cell_type": "code",
   "execution_count": null,
   "metadata": {},
   "outputs": [],
   "source": [
    "generate_numerical_heatmap(RemovedOutlierDataset, categorical_data_in_numeric, \"[UNION outliers removed] Numerical heatmap\")"
   ]
  },
  {
   "cell_type": "code",
   "execution_count": null,
   "metadata": {},
   "outputs": [],
   "source": [
    "generate_categorical_based_on_numerical_feature_heatmap(RemovedOutlierDataset, 'category', 'subcategory', 'avg_rating', 'average rating of course catergory')"
   ]
  },
  {
   "cell_type": "code",
   "execution_count": null,
   "metadata": {},
   "outputs": [],
   "source": [
    "generate_categorical_based_on_numerical_feature_heatmap(RemovedOutlierDataset, 'category', 'subcategory', 'num_subscribers', 'number of subscribers of course catergory')"
   ]
  },
  {
   "cell_type": "code",
   "execution_count": null,
   "metadata": {},
   "outputs": [],
   "source": [
    "generate_categorical_based_on_numerical_feature_heatmap(RemovedOutlierDataset, 'category', 'subcategory', 'price', 'price of course catergory')"
   ]
  }
 ],
 "metadata": {
  "kernelspec": {
   "display_name": "Python 3",
   "language": "python",
   "name": "python3"
  },
  "language_info": {
   "codemirror_mode": {
    "name": "ipython",
    "version": 3
   },
   "file_extension": ".py",
   "mimetype": "text/x-python",
   "name": "python",
   "nbconvert_exporter": "python",
   "pygments_lexer": "ipython3",
   "version": "3.8.3"
  }
 },
 "nbformat": 4,
 "nbformat_minor": 2
}
