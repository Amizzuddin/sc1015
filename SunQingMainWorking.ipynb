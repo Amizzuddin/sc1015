{
 "cells": [
  {
   "cell_type": "markdown",
   "metadata": {},
   "source": [
    "# Import Essential Libraries"
   ]
  },
  {
   "cell_type": "code",
   "execution_count": 81,
   "metadata": {},
   "outputs": [],
   "source": [
    "# Basic Libraries\n",
    "import numpy as np\n",
    "import pandas as pd\n",
    "import seaborn as sb\n",
    "import matplotlib.pyplot as plt # we only need pyplot\n",
    "sb.set() # set the default Seaborn style for graphics"
   ]
  },
  {
   "cell_type": "markdown",
   "metadata": {},
   "source": [
    "# Data Preparation"
   ]
  },
  {
   "cell_type": "code",
   "execution_count": 82,
   "metadata": {},
   "outputs": [
    {
     "data": {
      "text/html": [
       "<div>\n",
       "<style scoped>\n",
       "    .dataframe tbody tr th:only-of-type {\n",
       "        vertical-align: middle;\n",
       "    }\n",
       "\n",
       "    .dataframe tbody tr th {\n",
       "        vertical-align: top;\n",
       "    }\n",
       "\n",
       "    .dataframe thead th {\n",
       "        text-align: right;\n",
       "    }\n",
       "</style>\n",
       "<table border=\"1\" class=\"dataframe\">\n",
       "  <thead>\n",
       "    <tr style=\"text-align: right;\">\n",
       "      <th></th>\n",
       "      <th>id</th>\n",
       "      <th>title</th>\n",
       "      <th>is_paid</th>\n",
       "      <th>price</th>\n",
       "      <th>headline</th>\n",
       "      <th>num_subscribers</th>\n",
       "      <th>avg_rating</th>\n",
       "      <th>num_reviews</th>\n",
       "      <th>num_comments</th>\n",
       "      <th>num_lectures</th>\n",
       "      <th>content_length_min</th>\n",
       "      <th>published_time</th>\n",
       "      <th>last_update_date</th>\n",
       "      <th>category</th>\n",
       "      <th>subcategory</th>\n",
       "      <th>topic</th>\n",
       "      <th>language</th>\n",
       "      <th>course_url</th>\n",
       "      <th>instructor_name</th>\n",
       "      <th>instructor_url</th>\n",
       "    </tr>\n",
       "  </thead>\n",
       "  <tbody>\n",
       "    <tr>\n",
       "      <th>0</th>\n",
       "      <td>4715.0</td>\n",
       "      <td>Online Vegan Vegetarian Cooking School</td>\n",
       "      <td>True</td>\n",
       "      <td>24.99</td>\n",
       "      <td>Learn to cook delicious vegan recipes. Filmed ...</td>\n",
       "      <td>2231.0</td>\n",
       "      <td>3.75</td>\n",
       "      <td>134.0</td>\n",
       "      <td>42.0</td>\n",
       "      <td>37.0</td>\n",
       "      <td>1268.0</td>\n",
       "      <td>2010-08-05T22:06:13Z</td>\n",
       "      <td>2020-11-06</td>\n",
       "      <td>Lifestyle</td>\n",
       "      <td>Food &amp; Beverage</td>\n",
       "      <td>Vegan Cooking</td>\n",
       "      <td>English</td>\n",
       "      <td>/course/vegan-vegetarian-cooking-school/</td>\n",
       "      <td>Angela Poch</td>\n",
       "      <td>/user/angelapoch/</td>\n",
       "    </tr>\n",
       "    <tr>\n",
       "      <th>1</th>\n",
       "      <td>1769.0</td>\n",
       "      <td>The Lean Startup Talk at Stanford E-Corner</td>\n",
       "      <td>False</td>\n",
       "      <td>0.00</td>\n",
       "      <td>Debunking Myths of Entrepreneurship A startup ...</td>\n",
       "      <td>26474.0</td>\n",
       "      <td>4.50</td>\n",
       "      <td>709.0</td>\n",
       "      <td>112.0</td>\n",
       "      <td>9.0</td>\n",
       "      <td>88.0</td>\n",
       "      <td>2010-01-12T18:09:46Z</td>\n",
       "      <td>NaN</td>\n",
       "      <td>Business</td>\n",
       "      <td>Entrepreneurship</td>\n",
       "      <td>Lean Startup</td>\n",
       "      <td>English</td>\n",
       "      <td>/course/the-lean-startup-debunking-myths-of-en...</td>\n",
       "      <td>Eric Ries</td>\n",
       "      <td>/user/ericries/</td>\n",
       "    </tr>\n",
       "    <tr>\n",
       "      <th>2</th>\n",
       "      <td>5664.0</td>\n",
       "      <td>How To Become a Vegan, Vegetarian, or Flexitarian</td>\n",
       "      <td>True</td>\n",
       "      <td>19.99</td>\n",
       "      <td>Get the tools you need for a lifestyle change ...</td>\n",
       "      <td>1713.0</td>\n",
       "      <td>4.40</td>\n",
       "      <td>41.0</td>\n",
       "      <td>13.0</td>\n",
       "      <td>14.0</td>\n",
       "      <td>82.0</td>\n",
       "      <td>2010-10-13T18:07:17Z</td>\n",
       "      <td>2019-10-09</td>\n",
       "      <td>Lifestyle</td>\n",
       "      <td>Other Lifestyle</td>\n",
       "      <td>Vegan Cooking</td>\n",
       "      <td>English</td>\n",
       "      <td>/course/see-my-personal-motivation-for-becomin...</td>\n",
       "      <td>Angela Poch</td>\n",
       "      <td>/user/angelapoch/</td>\n",
       "    </tr>\n",
       "    <tr>\n",
       "      <th>3</th>\n",
       "      <td>7723.0</td>\n",
       "      <td>How to Train a Puppy</td>\n",
       "      <td>True</td>\n",
       "      <td>199.99</td>\n",
       "      <td>Train your puppy the right way with Dr. Ian Du...</td>\n",
       "      <td>4988.0</td>\n",
       "      <td>4.80</td>\n",
       "      <td>395.0</td>\n",
       "      <td>88.0</td>\n",
       "      <td>36.0</td>\n",
       "      <td>1511.0</td>\n",
       "      <td>2011-06-20T20:08:38Z</td>\n",
       "      <td>2016-01-13</td>\n",
       "      <td>Lifestyle</td>\n",
       "      <td>Pet Care &amp; Training</td>\n",
       "      <td>Pet Training</td>\n",
       "      <td>English</td>\n",
       "      <td>/course/complete-dunbar-collection/</td>\n",
       "      <td>Ian Dunbar</td>\n",
       "      <td>/user/ian-dunbar/</td>\n",
       "    </tr>\n",
       "    <tr>\n",
       "      <th>4</th>\n",
       "      <td>8157.0</td>\n",
       "      <td>Web Design from the Ground Up</td>\n",
       "      <td>True</td>\n",
       "      <td>159.99</td>\n",
       "      <td>Learn web design online: Everything you need t...</td>\n",
       "      <td>1266.0</td>\n",
       "      <td>4.75</td>\n",
       "      <td>38.0</td>\n",
       "      <td>12.0</td>\n",
       "      <td>38.0</td>\n",
       "      <td>569.0</td>\n",
       "      <td>2011-06-23T18:31:20Z</td>\n",
       "      <td>NaN</td>\n",
       "      <td>Design</td>\n",
       "      <td>Web Design</td>\n",
       "      <td>Web Design</td>\n",
       "      <td>English</td>\n",
       "      <td>/course/web-design-from-the-ground-up/</td>\n",
       "      <td>E Learning Lab</td>\n",
       "      <td>/user/edwin-ang-2/</td>\n",
       "    </tr>\n",
       "  </tbody>\n",
       "</table>\n",
       "</div>"
      ],
      "text/plain": [
       "       id                                              title  is_paid   price  \\\n",
       "0  4715.0             Online Vegan Vegetarian Cooking School     True   24.99   \n",
       "1  1769.0         The Lean Startup Talk at Stanford E-Corner    False    0.00   \n",
       "2  5664.0  How To Become a Vegan, Vegetarian, or Flexitarian     True   19.99   \n",
       "3  7723.0                               How to Train a Puppy     True  199.99   \n",
       "4  8157.0                      Web Design from the Ground Up     True  159.99   \n",
       "\n",
       "                                            headline  num_subscribers  \\\n",
       "0  Learn to cook delicious vegan recipes. Filmed ...           2231.0   \n",
       "1  Debunking Myths of Entrepreneurship A startup ...          26474.0   \n",
       "2  Get the tools you need for a lifestyle change ...           1713.0   \n",
       "3  Train your puppy the right way with Dr. Ian Du...           4988.0   \n",
       "4  Learn web design online: Everything you need t...           1266.0   \n",
       "\n",
       "   avg_rating  num_reviews  num_comments  num_lectures  content_length_min  \\\n",
       "0        3.75        134.0          42.0          37.0              1268.0   \n",
       "1        4.50        709.0         112.0           9.0                88.0   \n",
       "2        4.40         41.0          13.0          14.0                82.0   \n",
       "3        4.80        395.0          88.0          36.0              1511.0   \n",
       "4        4.75         38.0          12.0          38.0               569.0   \n",
       "\n",
       "         published_time last_update_date   category          subcategory  \\\n",
       "0  2010-08-05T22:06:13Z       2020-11-06  Lifestyle      Food & Beverage   \n",
       "1  2010-01-12T18:09:46Z              NaN   Business     Entrepreneurship   \n",
       "2  2010-10-13T18:07:17Z       2019-10-09  Lifestyle      Other Lifestyle   \n",
       "3  2011-06-20T20:08:38Z       2016-01-13  Lifestyle  Pet Care & Training   \n",
       "4  2011-06-23T18:31:20Z              NaN     Design           Web Design   \n",
       "\n",
       "           topic language                                         course_url  \\\n",
       "0  Vegan Cooking  English           /course/vegan-vegetarian-cooking-school/   \n",
       "1   Lean Startup  English  /course/the-lean-startup-debunking-myths-of-en...   \n",
       "2  Vegan Cooking  English  /course/see-my-personal-motivation-for-becomin...   \n",
       "3   Pet Training  English                /course/complete-dunbar-collection/   \n",
       "4     Web Design  English             /course/web-design-from-the-ground-up/   \n",
       "\n",
       "  instructor_name      instructor_url  \n",
       "0     Angela Poch   /user/angelapoch/  \n",
       "1       Eric Ries     /user/ericries/  \n",
       "2     Angela Poch   /user/angelapoch/  \n",
       "3      Ian Dunbar   /user/ian-dunbar/  \n",
       "4  E Learning Lab  /user/edwin-ang-2/  "
      ]
     },
     "execution_count": 82,
     "metadata": {},
     "output_type": "execute_result"
    }
   ],
   "source": [
    "# Import the dataset -  Udemy Courses\n",
    "rawcoursedata = pd.read_csv('Course_info.csv')\n",
    "rawcoursedata.head()"
   ]
  },
  {
   "cell_type": "markdown",
   "metadata": {},
   "source": [
    "# Clean Data\n",
    "### 1. Standardise the Variable Names"
   ]
  },
  {
   "cell_type": "code",
   "execution_count": 83,
   "metadata": {},
   "outputs": [
    {
     "name": "stdout",
     "output_type": "stream",
     "text": [
      "<class 'pandas.core.frame.DataFrame'>\n",
      "RangeIndex: 209734 entries, 0 to 209733\n",
      "Data columns (total 17 columns):\n",
      " #   Column              Non-Null Count   Dtype  \n",
      "---  ------              --------------   -----  \n",
      " 0   TITLE               209734 non-null  object \n",
      " 1   IS_PAID             209734 non-null  bool   \n",
      " 2   PRICE               209734 non-null  float64\n",
      " 3   HEADLINE            209707 non-null  object \n",
      " 4   NUM_SUBSCRIBERS     209734 non-null  float64\n",
      " 5   AVG_RATING          209734 non-null  float64\n",
      " 6   NUM_REVIEWS         209734 non-null  float64\n",
      " 7   NUM_COMMENTS        209734 non-null  float64\n",
      " 8   NUM_LECTURES        209734 non-null  float64\n",
      " 9   CONTENT_LENGTH_MIN  209734 non-null  float64\n",
      " 10  PUBLISHED_TIME      209734 non-null  object \n",
      " 11  LAST_UPDATE_DATE    209597 non-null  object \n",
      " 12  CATEGORY            209734 non-null  object \n",
      " 13  SUBCATEGORY         209734 non-null  object \n",
      " 14  TOPIC               208776 non-null  object \n",
      " 15  LANGUAGE            209734 non-null  object \n",
      " 16  INSTRUCTOR_NAME     209729 non-null  object \n",
      "dtypes: bool(1), float64(7), object(9)\n",
      "memory usage: 25.8+ MB\n"
     ]
    }
   ],
   "source": [
    "# Create a copy of the Dataset\n",
    "coursedata_clean = rawcoursedata.copy()\n",
    "\n",
    "# Remove non-usable columns\n",
    "coursedata_clean.drop(['course_url', 'instructor_url','id'],axis=1,inplace=True)\n",
    "\n",
    "# Convert all Variable Names to UPPERCASE\n",
    "coursedata_clean.columns = coursedata_clean.columns.str.upper()\n",
    "\n",
    "# Print the Variable Information to check\n",
    "coursedata_clean.info()"
   ]
  },
  {
   "cell_type": "markdown",
   "metadata": {},
   "source": [
    "### 2.Remove null values"
   ]
  },
  {
   "cell_type": "code",
   "execution_count": 84,
   "metadata": {},
   "outputs": [
    {
     "data": {
      "text/plain": [
       "TITLE                   0\n",
       "IS_PAID                 0\n",
       "PRICE                   0\n",
       "HEADLINE               27\n",
       "NUM_SUBSCRIBERS         0\n",
       "AVG_RATING              0\n",
       "NUM_REVIEWS             0\n",
       "NUM_COMMENTS            0\n",
       "NUM_LECTURES            0\n",
       "CONTENT_LENGTH_MIN      0\n",
       "PUBLISHED_TIME          0\n",
       "LAST_UPDATE_DATE      137\n",
       "CATEGORY                0\n",
       "SUBCATEGORY             0\n",
       "TOPIC                 958\n",
       "LANGUAGE                0\n",
       "INSTRUCTOR_NAME         5\n",
       "dtype: int64"
      ]
     },
     "execution_count": 84,
     "metadata": {},
     "output_type": "execute_result"
    }
   ],
   "source": [
    "coursedata_clean.isnull().sum()"
   ]
  },
  {
   "cell_type": "code",
   "execution_count": 85,
   "metadata": {},
   "outputs": [],
   "source": [
    "#replace null topic with Unknown\n",
    "coursedata_clean.TOPIC.fillna('Unknown', inplace = True)\n",
    "\n",
    "#replace null headline with Unknown\n",
    "coursedata_clean.HEADLINE.fillna('Unknown', inplace = True)\n",
    "\n",
    "#replace null instructorname with Unknown\n",
    "coursedata_clean.INSTRUCTOR_NAME.fillna('Unknown', inplace = True)\n",
    "\n",
    "#exclude time from PUBLISHED_TIME \n",
    "coursedata_clean['PUBLISHED_TIME'] = pd.to_datetime(coursedata_clean['PUBLISHED_TIME']).dt.date\n"
   ]
  },
  {
   "cell_type": "code",
   "execution_count": 86,
   "metadata": {},
   "outputs": [
    {
     "data": {
      "text/plain": [
       "TITLE                   0\n",
       "IS_PAID                 0\n",
       "PRICE                   0\n",
       "HEADLINE                0\n",
       "NUM_SUBSCRIBERS         0\n",
       "AVG_RATING              0\n",
       "NUM_REVIEWS             0\n",
       "NUM_COMMENTS            0\n",
       "NUM_LECTURES            0\n",
       "CONTENT_LENGTH_MIN      0\n",
       "PUBLISHED_TIME          0\n",
       "LAST_UPDATE_DATE      137\n",
       "CATEGORY                0\n",
       "SUBCATEGORY             0\n",
       "TOPIC                   0\n",
       "LANGUAGE                0\n",
       "INSTRUCTOR_NAME         0\n",
       "dtype: int64"
      ]
     },
     "execution_count": 86,
     "metadata": {},
     "output_type": "execute_result"
    }
   ],
   "source": [
    "coursedata_clean.isnull().sum()"
   ]
  },
  {
   "cell_type": "code",
   "execution_count": 87,
   "metadata": {},
   "outputs": [
    {
     "name": "stdout",
     "output_type": "stream",
     "text": [
      "<class 'pandas.core.frame.DataFrame'>\n",
      "RangeIndex: 209734 entries, 0 to 209733\n",
      "Data columns (total 17 columns):\n",
      " #   Column              Non-Null Count   Dtype  \n",
      "---  ------              --------------   -----  \n",
      " 0   TITLE               209734 non-null  object \n",
      " 1   IS_PAID             209734 non-null  bool   \n",
      " 2   PRICE               209734 non-null  float64\n",
      " 3   HEADLINE            209734 non-null  object \n",
      " 4   NUM_SUBSCRIBERS     209734 non-null  float64\n",
      " 5   AVG_RATING          209734 non-null  float64\n",
      " 6   NUM_REVIEWS         209734 non-null  float64\n",
      " 7   NUM_COMMENTS        209734 non-null  float64\n",
      " 8   NUM_LECTURES        209734 non-null  float64\n",
      " 9   CONTENT_LENGTH_MIN  209734 non-null  float64\n",
      " 10  PUBLISHED_TIME      209734 non-null  object \n",
      " 11  LAST_UPDATE_DATE    209597 non-null  object \n",
      " 12  CATEGORY            209734 non-null  object \n",
      " 13  SUBCATEGORY         209734 non-null  object \n",
      " 14  TOPIC               209734 non-null  object \n",
      " 15  LANGUAGE            209734 non-null  object \n",
      " 16  INSTRUCTOR_NAME     209734 non-null  object \n",
      "dtypes: bool(1), float64(7), object(9)\n",
      "memory usage: 25.8+ MB\n"
     ]
    }
   ],
   "source": [
    "coursedata_clean.info()"
   ]
  },
  {
   "cell_type": "markdown",
   "metadata": {},
   "source": [
    "### 3.Remove outliers for numeric datas"
   ]
  },
  {
   "cell_type": "code",
   "execution_count": 88,
   "metadata": {},
   "outputs": [],
   "source": [
    "# Extract the float64 variables for simplicity\n",
    "numeric_data = coursedata_clean.copy()\n",
    "float_column = numeric_data[['PRICE','NUM_SUBSCRIBERS', 'AVG_RATING', 'NUM_REVIEWS', 'NUM_COMMENTS','NUM_LECTURES', 'CONTENT_LENGTH_MIN']].copy()"
   ]
  },
  {
   "cell_type": "code",
   "execution_count": 89,
   "metadata": {},
   "outputs": [
    {
     "data": {
      "text/plain": [
       "PRICE                 11404\n",
       "NUM_SUBSCRIBERS       31288\n",
       "AVG_RATING            29601\n",
       "NUM_REVIEWS           30255\n",
       "NUM_COMMENTS          28918\n",
       "NUM_LECTURES          16890\n",
       "CONTENT_LENGTH_MIN    19173\n",
       "dtype: int64"
      ]
     },
     "execution_count": 89,
     "metadata": {},
     "output_type": "execute_result"
    },
    {
     "data": {
      "image/png": "[encoded data removed]",
      "text/plain": [
       "<Figure size 1152x576 with 7 Axes>"
      ]
     },
     "metadata": {},
     "output_type": "display_data"
    }
   ],
   "source": [
    "# Draw the boxplots\n",
    "f, axes = plt.subplots(7, 1, figsize=(16, 8))\n",
    "\n",
    "sb.boxplot(data = float_column[\"PRICE\"], orient = \"h\", ax = axes[0])\n",
    "sb.boxplot(data = float_column[\"NUM_SUBSCRIBERS\"], orient = \"h\", ax = axes[1])\n",
    "sb.boxplot(data = float_column[\"AVG_RATING\"], orient = \"h\", ax = axes[2])\n",
    "sb.boxplot(data = float_column[\"NUM_REVIEWS\"], orient = \"h\", ax = axes[3])\n",
    "sb.boxplot(data = float_column[\"NUM_COMMENTS\"], orient = \"h\", ax = axes[4])\n",
    "sb.boxplot(data = float_column[\"NUM_LECTURES\"], orient = \"h\", ax = axes[5])\n",
    "sb.boxplot(data = float_column[\"CONTENT_LENGTH_MIN\"], orient = \"h\", ax = axes[6])\n",
    "\n",
    "# Calculate the quartiles\n",
    "Q1 = float_column.quantile(0.25)\n",
    "Q3 = float_column.quantile(0.75)\n",
    "\n",
    "# Rule to identify outliers\n",
    "rule = ((float_column < (Q1 - 1.5 * (Q3 - Q1))) | (float_column > (Q3 + 1.5 * (Q3 - Q1))))\n",
    "\n",
    "# Count the number of outliers\n",
    "rule.sum()"
   ]
  },
  {
   "cell_type": "code",
   "execution_count": 90,
   "metadata": {},
   "outputs": [
    {
     "data": {
      "text/html": [
       "<div>\n",
       "<style scoped>\n",
       "    .dataframe tbody tr th:only-of-type {\n",
       "        vertical-align: middle;\n",
       "    }\n",
       "\n",
       "    .dataframe tbody tr th {\n",
       "        vertical-align: top;\n",
       "    }\n",
       "\n",
       "    .dataframe thead th {\n",
       "        text-align: right;\n",
       "    }\n",
       "</style>\n",
       "<table border=\"1\" class=\"dataframe\">\n",
       "  <thead>\n",
       "    <tr style=\"text-align: right;\">\n",
       "      <th></th>\n",
       "      <th>PRICE</th>\n",
       "      <th>NUM_SUBSCRIBERS</th>\n",
       "      <th>AVG_RATING</th>\n",
       "      <th>NUM_REVIEWS</th>\n",
       "      <th>NUM_COMMENTS</th>\n",
       "      <th>NUM_LECTURES</th>\n",
       "      <th>CONTENT_LENGTH_MIN</th>\n",
       "    </tr>\n",
       "  </thead>\n",
       "  <tbody>\n",
       "    <tr>\n",
       "      <th>0</th>\n",
       "      <td>False</td>\n",
       "      <td>False</td>\n",
       "      <td>False</td>\n",
       "      <td>False</td>\n",
       "      <td>False</td>\n",
       "      <td>False</td>\n",
       "      <td>True</td>\n",
       "    </tr>\n",
       "    <tr>\n",
       "      <th>1</th>\n",
       "      <td>False</td>\n",
       "      <td>True</td>\n",
       "      <td>False</td>\n",
       "      <td>True</td>\n",
       "      <td>True</td>\n",
       "      <td>False</td>\n",
       "      <td>False</td>\n",
       "    </tr>\n",
       "    <tr>\n",
       "      <th>2</th>\n",
       "      <td>False</td>\n",
       "      <td>False</td>\n",
       "      <td>False</td>\n",
       "      <td>False</td>\n",
       "      <td>False</td>\n",
       "      <td>False</td>\n",
       "      <td>False</td>\n",
       "    </tr>\n",
       "    <tr>\n",
       "      <th>3</th>\n",
       "      <td>False</td>\n",
       "      <td>True</td>\n",
       "      <td>False</td>\n",
       "      <td>True</td>\n",
       "      <td>True</td>\n",
       "      <td>False</td>\n",
       "      <td>True</td>\n",
       "    </tr>\n",
       "    <tr>\n",
       "      <th>4</th>\n",
       "      <td>False</td>\n",
       "      <td>False</td>\n",
       "      <td>False</td>\n",
       "      <td>False</td>\n",
       "      <td>False</td>\n",
       "      <td>False</td>\n",
       "      <td>False</td>\n",
       "    </tr>\n",
       "    <tr>\n",
       "      <th>...</th>\n",
       "      <td>...</td>\n",
       "      <td>...</td>\n",
       "      <td>...</td>\n",
       "      <td>...</td>\n",
       "      <td>...</td>\n",
       "      <td>...</td>\n",
       "      <td>...</td>\n",
       "    </tr>\n",
       "    <tr>\n",
       "      <th>209729</th>\n",
       "      <td>False</td>\n",
       "      <td>False</td>\n",
       "      <td>True</td>\n",
       "      <td>False</td>\n",
       "      <td>False</td>\n",
       "      <td>False</td>\n",
       "      <td>False</td>\n",
       "    </tr>\n",
       "    <tr>\n",
       "      <th>209730</th>\n",
       "      <td>False</td>\n",
       "      <td>False</td>\n",
       "      <td>True</td>\n",
       "      <td>False</td>\n",
       "      <td>False</td>\n",
       "      <td>False</td>\n",
       "      <td>False</td>\n",
       "    </tr>\n",
       "    <tr>\n",
       "      <th>209731</th>\n",
       "      <td>False</td>\n",
       "      <td>False</td>\n",
       "      <td>True</td>\n",
       "      <td>False</td>\n",
       "      <td>False</td>\n",
       "      <td>False</td>\n",
       "      <td>False</td>\n",
       "    </tr>\n",
       "    <tr>\n",
       "      <th>209732</th>\n",
       "      <td>False</td>\n",
       "      <td>False</td>\n",
       "      <td>True</td>\n",
       "      <td>False</td>\n",
       "      <td>False</td>\n",
       "      <td>False</td>\n",
       "      <td>False</td>\n",
       "    </tr>\n",
       "    <tr>\n",
       "      <th>209733</th>\n",
       "      <td>False</td>\n",
       "      <td>False</td>\n",
       "      <td>True</td>\n",
       "      <td>False</td>\n",
       "      <td>False</td>\n",
       "      <td>False</td>\n",
       "      <td>False</td>\n",
       "    </tr>\n",
       "  </tbody>\n",
       "</table>\n",
       "<p>209734 rows × 7 columns</p>\n",
       "</div>"
      ],
      "text/plain": [
       "        PRICE  NUM_SUBSCRIBERS  AVG_RATING  NUM_REVIEWS  NUM_COMMENTS  \\\n",
       "0       False            False       False        False         False   \n",
       "1       False             True       False         True          True   \n",
       "2       False            False       False        False         False   \n",
       "3       False             True       False         True          True   \n",
       "4       False            False       False        False         False   \n",
       "...       ...              ...         ...          ...           ...   \n",
       "209729  False            False        True        False         False   \n",
       "209730  False            False        True        False         False   \n",
       "209731  False            False        True        False         False   \n",
       "209732  False            False        True        False         False   \n",
       "209733  False            False        True        False         False   \n",
       "\n",
       "        NUM_LECTURES  CONTENT_LENGTH_MIN  \n",
       "0              False                True  \n",
       "1              False               False  \n",
       "2              False               False  \n",
       "3              False                True  \n",
       "4              False               False  \n",
       "...              ...                 ...  \n",
       "209729         False               False  \n",
       "209730         False               False  \n",
       "209731         False               False  \n",
       "209732         False               False  \n",
       "209733         False               False  \n",
       "\n",
       "[209734 rows x 7 columns]"
      ]
     },
     "execution_count": 90,
     "metadata": {},
     "output_type": "execute_result"
    }
   ],
   "source": [
    "# Calculate the quartiles\n",
    "Q1 = float_column.quantile(0.25)\n",
    "Q3 = float_column.quantile(0.75)\n",
    "\n",
    "# Rule to identify outliers\n",
    "rule = ((float_column < (Q1 - 1.5 * (Q3 - Q1))) | (float_column > (Q3 + 1.5 * (Q3 - Q1))))\n",
    "\n",
    "# Check the dataframe rule\n",
    "rule"
   ]
  },
  {
   "cell_type": "code",
   "execution_count": 91,
   "metadata": {},
   "outputs": [
    {
     "data": {
      "text/plain": [
       "0          True\n",
       "1          True\n",
       "2         False\n",
       "3          True\n",
       "4         False\n",
       "          ...  \n",
       "209729     True\n",
       "209730     True\n",
       "209731     True\n",
       "209732     True\n",
       "209733     True\n",
       "Length: 209734, dtype: bool"
      ]
     },
     "execution_count": 91,
     "metadata": {},
     "output_type": "execute_result"
    }
   ],
   "source": [
    "# Find the rows where ANY column is True\n",
    "outliers = rule.any(axis = 1)   # axis 0 is row, 1 is column\n",
    "\n",
    "# Check the outliers\n",
    "outliers"
   ]
  },
  {
   "cell_type": "code",
   "execution_count": 92,
   "metadata": {},
   "outputs": [
    {
     "data": {
      "text/plain": [
       "False    114994\n",
       "True      94740\n",
       "dtype: int64"
      ]
     },
     "execution_count": 92,
     "metadata": {},
     "output_type": "execute_result"
    }
   ],
   "source": [
    "# Total number of outliers for the two variables\n",
    "outliers.value_counts()"
   ]
  },
  {
   "cell_type": "code",
   "execution_count": 93,
   "metadata": {},
   "outputs": [
    {
     "data": {
      "text/plain": [
       "Int64Index([     0,      1,      3,      5,      6,      7,      8,      9,\n",
       "                11,     13,\n",
       "            ...\n",
       "            209722, 209724, 209726, 209727, 209728, 209729, 209730, 209731,\n",
       "            209732, 209733],\n",
       "           dtype='int64', length=94740)"
      ]
     },
     "execution_count": 93,
     "metadata": {},
     "output_type": "execute_result"
    }
   ],
   "source": [
    "# Find the row indices correspond to outliers in the dataframe\n",
    "outlierindices = outliers.index[outliers == True]\n",
    "outlierindices"
   ]
  },
  {
   "cell_type": "code",
   "execution_count": 94,
   "metadata": {},
   "outputs": [
    {
     "data": {
      "text/html": [
       "<div>\n",
       "<style scoped>\n",
       "    .dataframe tbody tr th:only-of-type {\n",
       "        vertical-align: middle;\n",
       "    }\n",
       "\n",
       "    .dataframe tbody tr th {\n",
       "        vertical-align: top;\n",
       "    }\n",
       "\n",
       "    .dataframe thead th {\n",
       "        text-align: right;\n",
       "    }\n",
       "</style>\n",
       "<table border=\"1\" class=\"dataframe\">\n",
       "  <thead>\n",
       "    <tr style=\"text-align: right;\">\n",
       "      <th></th>\n",
       "      <th>PRICE</th>\n",
       "      <th>NUM_SUBSCRIBERS</th>\n",
       "      <th>AVG_RATING</th>\n",
       "      <th>NUM_REVIEWS</th>\n",
       "      <th>NUM_COMMENTS</th>\n",
       "      <th>NUM_LECTURES</th>\n",
       "      <th>CONTENT_LENGTH_MIN</th>\n",
       "    </tr>\n",
       "  </thead>\n",
       "  <tbody>\n",
       "    <tr>\n",
       "      <th>2</th>\n",
       "      <td>19.99</td>\n",
       "      <td>1713.0</td>\n",
       "      <td>4.400000</td>\n",
       "      <td>41.0</td>\n",
       "      <td>13.0</td>\n",
       "      <td>14.0</td>\n",
       "      <td>82.0</td>\n",
       "    </tr>\n",
       "    <tr>\n",
       "      <th>4</th>\n",
       "      <td>159.99</td>\n",
       "      <td>1266.0</td>\n",
       "      <td>4.750000</td>\n",
       "      <td>38.0</td>\n",
       "      <td>12.0</td>\n",
       "      <td>38.0</td>\n",
       "      <td>569.0</td>\n",
       "    </tr>\n",
       "    <tr>\n",
       "      <th>10</th>\n",
       "      <td>49.99</td>\n",
       "      <td>794.0</td>\n",
       "      <td>4.100000</td>\n",
       "      <td>27.0</td>\n",
       "      <td>16.0</td>\n",
       "      <td>10.0</td>\n",
       "      <td>236.0</td>\n",
       "    </tr>\n",
       "    <tr>\n",
       "      <th>12</th>\n",
       "      <td>49.99</td>\n",
       "      <td>2058.0</td>\n",
       "      <td>3.650000</td>\n",
       "      <td>25.0</td>\n",
       "      <td>8.0</td>\n",
       "      <td>81.0</td>\n",
       "      <td>459.0</td>\n",
       "    </tr>\n",
       "    <tr>\n",
       "      <th>16</th>\n",
       "      <td>29.99</td>\n",
       "      <td>505.0</td>\n",
       "      <td>3.250000</td>\n",
       "      <td>24.0</td>\n",
       "      <td>3.0</td>\n",
       "      <td>19.0</td>\n",
       "      <td>148.0</td>\n",
       "    </tr>\n",
       "    <tr>\n",
       "      <th>...</th>\n",
       "      <td>...</td>\n",
       "      <td>...</td>\n",
       "      <td>...</td>\n",
       "      <td>...</td>\n",
       "      <td>...</td>\n",
       "      <td>...</td>\n",
       "      <td>...</td>\n",
       "    </tr>\n",
       "    <tr>\n",
       "      <th>209706</th>\n",
       "      <td>24.99</td>\n",
       "      <td>14.0</td>\n",
       "      <td>5.000000</td>\n",
       "      <td>5.0</td>\n",
       "      <td>6.0</td>\n",
       "      <td>11.0</td>\n",
       "      <td>68.0</td>\n",
       "    </tr>\n",
       "    <tr>\n",
       "      <th>209711</th>\n",
       "      <td>34.99</td>\n",
       "      <td>206.0</td>\n",
       "      <td>4.650000</td>\n",
       "      <td>10.0</td>\n",
       "      <td>1.0</td>\n",
       "      <td>56.0</td>\n",
       "      <td>275.0</td>\n",
       "    </tr>\n",
       "    <tr>\n",
       "      <th>209719</th>\n",
       "      <td>84.99</td>\n",
       "      <td>2009.0</td>\n",
       "      <td>4.214286</td>\n",
       "      <td>9.0</td>\n",
       "      <td>4.0</td>\n",
       "      <td>37.0</td>\n",
       "      <td>397.0</td>\n",
       "    </tr>\n",
       "    <tr>\n",
       "      <th>209723</th>\n",
       "      <td>19.99</td>\n",
       "      <td>321.0</td>\n",
       "      <td>5.000000</td>\n",
       "      <td>8.0</td>\n",
       "      <td>7.0</td>\n",
       "      <td>10.0</td>\n",
       "      <td>44.0</td>\n",
       "    </tr>\n",
       "    <tr>\n",
       "      <th>209725</th>\n",
       "      <td>69.99</td>\n",
       "      <td>11.0</td>\n",
       "      <td>5.000000</td>\n",
       "      <td>1.0</td>\n",
       "      <td>1.0</td>\n",
       "      <td>5.0</td>\n",
       "      <td>32.0</td>\n",
       "    </tr>\n",
       "  </tbody>\n",
       "</table>\n",
       "<p>114994 rows × 7 columns</p>\n",
       "</div>"
      ],
      "text/plain": [
       "         PRICE  NUM_SUBSCRIBERS  AVG_RATING  NUM_REVIEWS  NUM_COMMENTS  \\\n",
       "2        19.99           1713.0    4.400000         41.0          13.0   \n",
       "4       159.99           1266.0    4.750000         38.0          12.0   \n",
       "10       49.99            794.0    4.100000         27.0          16.0   \n",
       "12       49.99           2058.0    3.650000         25.0           8.0   \n",
       "16       29.99            505.0    3.250000         24.0           3.0   \n",
       "...        ...              ...         ...          ...           ...   \n",
       "209706   24.99             14.0    5.000000          5.0           6.0   \n",
       "209711   34.99            206.0    4.650000         10.0           1.0   \n",
       "209719   84.99           2009.0    4.214286          9.0           4.0   \n",
       "209723   19.99            321.0    5.000000          8.0           7.0   \n",
       "209725   69.99             11.0    5.000000          1.0           1.0   \n",
       "\n",
       "        NUM_LECTURES  CONTENT_LENGTH_MIN  \n",
       "2               14.0                82.0  \n",
       "4               38.0               569.0  \n",
       "10              10.0               236.0  \n",
       "12              81.0               459.0  \n",
       "16              19.0               148.0  \n",
       "...              ...                 ...  \n",
       "209706          11.0                68.0  \n",
       "209711          56.0               275.0  \n",
       "209719          37.0               397.0  \n",
       "209723          10.0                44.0  \n",
       "209725           5.0                32.0  \n",
       "\n",
       "[114994 rows x 7 columns]"
      ]
     },
     "execution_count": 94,
     "metadata": {},
     "output_type": "execute_result"
    }
   ],
   "source": [
    "# Remove the outliers based on the row indices obtained above\n",
    "float_column.drop(axis = 0,               # 0 drops row 1 drops column\n",
    "                index = outlierindices, # this takes a list as input\n",
    "                inplace = True)         # not overwritten by default \n",
    "\n",
    "# Check the clean data\n",
    "float_column"
   ]
  },
  {
   "cell_type": "markdown",
   "metadata": {},
   "source": [
    "## 2. Exploratory Data Analysis / Visualization"
   ]
  },
  {
   "cell_type": "markdown",
   "metadata": {},
   "source": [
    "### 2.1 Categorical Analysis"
   ]
  },
  {
   "cell_type": "code",
   "execution_count": 126,
   "metadata": {},
   "outputs": [],
   "source": [
    "category_data= coursedata_clean.copy()\n",
    "paid_cat = category_data[[\"IS_PAID\",\"CATEGORY\",\"SUBCATEGORY\"]]"
   ]
  },
  {
   "cell_type": "code",
   "execution_count": 127,
   "metadata": {},
   "outputs": [
    {
     "data": {
      "text/plain": [
       "<seaborn.axisgrid.FacetGrid at 0x1c6ad9db610>"
      ]
     },
     "execution_count": 127,
     "metadata": {},
     "output_type": "execute_result"
    },
    {
     "data": {
      "image/png": "[encoded data removed]",
      "text/plain": [
       "<Figure size 360x360 with 1 Axes>"
      ]
     },
     "metadata": {},
     "output_type": "display_data"
    }
   ],
   "source": [
    "sb.catplot(y = 'CATEGORY', data = paid_cat, kind = \"count\")"
   ]
  },
  {
   "cell_type": "code",
   "execution_count": 128,
   "metadata": {},
   "outputs": [
    {
     "data": {
      "image/png": "[encoded data removed]",
      "text/plain": [
       "<Figure size 432x288 with 1 Axes>"
      ]
     },
     "metadata": {},
     "output_type": "display_data"
    }
   ],
   "source": [
    "paid_cat['IS_PAID'].value_counts().plot(kind='bar')\n",
    "plt.title('Paid vs Not Paid Courses');"
   ]
  },
  {
   "cell_type": "markdown",
   "metadata": {},
   "source": [
    "## TBC dk how to do now :("
   ]
  },
  {
   "cell_type": "markdown",
   "metadata": {},
   "source": [
    "#### Category by Price"
   ]
  },
  {
   "cell_type": "code",
   "execution_count": null,
   "metadata": {},
   "outputs": [],
   "source": [
    "#do tree"
   ]
  },
  {
   "cell_type": "code",
   "execution_count": 163,
   "metadata": {},
   "outputs": [
    {
     "data": {
      "text/plain": [
       "count    209734.000000\n",
       "mean         81.665529\n",
       "std         117.317846\n",
       "min           0.000000\n",
       "25%          19.990000\n",
       "50%          34.990000\n",
       "75%          99.990000\n",
       "max         999.990000\n",
       "Name: PRICE, dtype: float64"
      ]
     },
     "execution_count": 163,
     "metadata": {},
     "output_type": "execute_result"
    }
   ],
   "source": [
    "price_cat = category_data[[\"PRICE\",\"CATEGORY\",\"SUBCATEGORY\"]].copy()\n",
    "price_cat['PRICE'].describe()"
   ]
  },
  {
   "cell_type": "code",
   "execution_count": 164,
   "metadata": {},
   "outputs": [
    {
     "name": "stdout",
     "output_type": "stream",
     "text": [
      "<class 'pandas.core.frame.DataFrame'>\n",
      "RangeIndex: 209734 entries, 0 to 209733\n",
      "Data columns (total 3 columns):\n",
      " #   Column       Non-Null Count   Dtype  \n",
      "---  ------       --------------   -----  \n",
      " 0   PRICE        209734 non-null  float64\n",
      " 1   CATEGORY     209734 non-null  object \n",
      " 2   SUBCATEGORY  209734 non-null  object \n",
      "dtypes: float64(1), object(2)\n",
      "memory usage: 4.8+ MB\n"
     ]
    }
   ],
   "source": [
    "price_cat.info()"
   ]
  },
  {
   "cell_type": "code",
   "execution_count": null,
   "metadata": {},
   "outputs": [],
   "source": [
    "#remove outlier"
   ]
  }
 ],
 "metadata": {
  "kernelspec": {
   "display_name": "Python 3",
   "language": "python",
   "name": "python3"
  },
  "language_info": {
   "codemirror_mode": {
    "name": "ipython",
    "version": 3
   },
   "file_extension": ".py",
   "mimetype": "text/x-python",
   "name": "python",
   "nbconvert_exporter": "python",
   "pygments_lexer": "ipython3",
   "version": "3.8.3"
  }
 },
 "nbformat": 4,
 "nbformat_minor": 4
}
