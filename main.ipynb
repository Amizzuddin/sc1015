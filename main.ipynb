{
 "cells": [
  {
   "cell_type": "markdown",
   "metadata": {},
   "source": [
    "# Main Jupyter Notebook"
   ]
  },
  {
   "cell_type": "markdown",
   "metadata": {},
   "source": [
    "## Data preparation"
   ]
  },
  {
   "cell_type": "code",
   "execution_count": 1,
   "metadata": {},
   "outputs": [],
   "source": [
    "import pandas as pd\n",
    "import numpy as np\n",
    "import seaborn as sb\n",
    "import matplotlib.pyplot as plt\n",
    "sb.set()"
   ]
  },
  {
   "cell_type": "code",
   "execution_count": 8,
   "metadata": {},
   "outputs": [],
   "source": [
    "from importnb import imports\n",
    "with imports(\"ipynb\"):\n",
    "    from amizzuddin import (\n",
    "        get_dataset_raw,\n",
    "        print_feature_outliers\n",
    "    )\n",
    "\n",
    "RawDataset = get_dataset_raw()"
   ]
  },
  {
   "cell_type": "code",
   "execution_count": 10,
   "metadata": {},
   "outputs": [
    {
     "name": "stdout",
     "output_type": "stream",
     "text": [
      "<class 'pandas.core.frame.DataFrame'>\n",
      "RangeIndex: 209734 entries, 0 to 209733\n",
      "Data columns (total 20 columns):\n",
      " #   Column              Non-Null Count   Dtype              \n",
      "---  ------              --------------   -----              \n",
      " 0   id                  209734 non-null  int64              \n",
      " 1   title               209734 non-null  object             \n",
      " 2   is_paid             209734 non-null  bool               \n",
      " 3   price               209734 non-null  float64            \n",
      " 4   headline            209707 non-null  object             \n",
      " 5   num_subscribers     209734 non-null  int64              \n",
      " 6   avg_rating          209734 non-null  float64            \n",
      " 7   num_reviews         209734 non-null  int64              \n",
      " 8   num_comments        209734 non-null  int64              \n",
      " 9   num_lectures        209734 non-null  int64              \n",
      " 10  content_length_min  209734 non-null  int64              \n",
      " 11  published_time      209734 non-null  datetime64[ns, UTC]\n",
      " 12  last_update_date    209597 non-null  datetime64[ns]     \n",
      " 13  category            209734 non-null  category           \n",
      " 14  subcategory         209734 non-null  category           \n",
      " 15  topic               208776 non-null  object             \n",
      " 16  language            209734 non-null  category           \n",
      " 17  course_url          209734 non-null  object             \n",
      " 18  instructor_name     209729 non-null  object             \n",
      " 19  instructor_url      209307 non-null  object             \n",
      "dtypes: bool(1), category(3), datetime64[ns, UTC](1), datetime64[ns](1), float64(2), int64(6), object(6)\n",
      "memory usage: 26.6+ MB\n"
     ]
    }
   ],
   "source": [
    "RawDataset.info()"
   ]
  },
  {
   "cell_type": "code",
   "execution_count": 11,
   "metadata": {},
   "outputs": [
    {
     "name": "stdout",
     "output_type": "stream",
     "text": [
      "[id] total outliers: 0\n",
      "[price] total outliers: 11404\n",
      "[num_subscribers] total outliers: 31288\n",
      "[num_reviews] total outliers: 30255\n",
      "[num_comments] total outliers: 28918\n",
      "[num_lectures] total outliers: 16890\n",
      "[content_length_min] total outliers: 19173\n"
     ]
    }
   ],
   "source": [
    "categorical_feature_in_numerical = ['avg_rating']\n",
    "print_feature_outliers(RawDataset, categorical_feature_in_numerical)"
   ]
  },
  {
   "cell_type": "code",
   "execution_count": null,
   "metadata": {},
   "outputs": [],
   "source": [
    "test"
   ]
  }
 ],
 "metadata": {
  "kernelspec": {
   "display_name": "Python 3 (ipykernel)",
   "language": "python",
   "name": "python3"
  },
  "language_info": {
   "codemirror_mode": {
    "name": "ipython",
    "version": 3
   },
   "file_extension": ".py",
   "mimetype": "text/x-python",
   "name": "python",
   "nbconvert_exporter": "python",
   "pygments_lexer": "ipython3",
   "version": "3.9.15"
  }
 },
 "nbformat": 4,
 "nbformat_minor": 2
}