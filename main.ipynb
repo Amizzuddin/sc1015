{
 "cells": [
  {
   "cell_type": "markdown",
   "metadata": {},
   "source": [
    "# Main Jupyter Notebook"
   ]
  },
  {
   "cell_type": "markdown",
   "metadata": {},
   "source": [
    "## Data preparation"
   ]
  },
  {
   "cell_type": "code",
   "execution_count": null,
   "metadata": {},
   "outputs": [],
   "source": [
    "from importnb import imports\n",
    "with imports(\"ipynb\"):\n",
    "    from contributions.common.functions import (\n",
    "        load_dataset,\n",
    "        load_parameters,\n",
    "        clean_up_dataset,\n",
    "        print_feature_outliers,\n",
    "        remove_outliers,\n",
    "        generate_numerical_eda_visualization,\n",
    "        generate_categorical_count_visualization,\n",
    "        generate_numerical_heatmap,\n",
    "        generate_numerical_categorical_heatmap,\n",
    "        generate_numerical_vs_categorical_eda_visualization,\n",
    "        generate_kprototype_cost_curve,\n",
    "        generate_kprototype_clusters,\n",
    "        generate_decision_tree_classifier,\n",
    "        generate_confusion_matrix,\n",
    "        generate_decision_tree\n",
    "    )"
   ]
  },
  {
   "cell_type": "code",
   "execution_count": null,
   "metadata": {},
   "outputs": [],
   "source": [
    "DatasetRaw = load_dataset(\"dataset\")\n",
    "parameters = load_parameters(\".\")\n",
    "DatasetRaw.info()"
   ]
  },
  {
   "cell_type": "code",
   "execution_count": null,
   "metadata": {},
   "outputs": [],
   "source": [
    "CleanUpDataset = clean_up_dataset(DatasetRaw, parameters)\n",
    "CleanUpDataset.info()"
   ]
  },
  {
   "cell_type": "code",
   "execution_count": null,
   "metadata": {},
   "outputs": [],
   "source": [
    "RemovedOutlierDataset = remove_outliers(CleanUpDataset)\n",
    "RemovedOutlierDataset.info()"
   ]
  },
  {
   "cell_type": "code",
   "execution_count": null,
   "metadata": {},
   "outputs": [],
   "source": [
    "generate_numerical_categorical_heatmap(RemovedOutlierDataset)"
   ]
  },
  {
   "cell_type": "code",
   "execution_count": null,
   "metadata": {},
   "outputs": [],
   "source": [
    "generate_kprototype_cost_curve(RemovedOutlierDataset, parameters)"
   ]
  },
  {
   "cell_type": "code",
   "execution_count": null,
   "metadata": {},
   "outputs": [],
   "source": [
    "AddClusterDataset, cluster_ids = generate_kprototype_clusters(RemovedOutlierDataset, parameters)"
   ]
  },
  {
   "cell_type": "code",
   "execution_count": null,
   "metadata": {},
   "outputs": [],
   "source": [
    "generate_numerical_categorical_heatmap(AddClusterDataset)"
   ]
  },
  {
   "cell_type": "code",
   "execution_count": null,
   "metadata": {},
   "outputs": [],
   "source": [
    "decision_tree_classier = generate_decision_tree_classifier(AddClusterDataset, parameters)"
   ]
  },
  {
   "cell_type": "code",
   "execution_count": null,
   "metadata": {},
   "outputs": [],
   "source": [
    "generate_confusion_matrix(decision_tree_classier)"
   ]
  },
  {
   "cell_type": "code",
   "execution_count": null,
   "metadata": {},
   "outputs": [],
   "source": [
    "generate_decision_tree(decision_tree_classier, parameters cluster_ids)"
   ]
  }
 ],
 "metadata": {
  "kernelspec": {
   "display_name": "Python 3 (ipykernel)",
   "language": "python",
   "name": "python3"
  },
  "language_info": {
   "codemirror_mode": {
    "name": "ipython",
    "version": 3
   },
   "file_extension": ".py",
   "mimetype": "text/x-python",
   "name": "python",
   "nbconvert_exporter": "python",
   "pygments_lexer": "ipython3",
   "version": "3.9.15"
  }
 },
 "nbformat": 4,
 "nbformat_minor": 2
}
