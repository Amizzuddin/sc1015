{
 "cells": [
  {
   "cell_type": "markdown",
   "metadata": {},
   "source": [
    "## Statements:\n",
    ">pd.DataFrame(rawcoursedata[['avg_rating','num_lectures','content_length_min','price']])\n",
    "\n",
    "Will the course duration and content length affect the rating? e.g. longer course better rating because covers more info\n",
    "\n",
    "Will longer course requires more money?\n"
   ]
  },
  {
   "cell_type": "markdown",
   "metadata": {},
   "source": [
    "# Import Essential Libraries"
   ]
  },
  {
   "cell_type": "code",
   "execution_count": 23,
   "metadata": {},
   "outputs": [],
   "source": [
    "# Basic Libraries\n",
    "import numpy as np\n",
    "import pandas as pd\n",
    "import seaborn as sb\n",
    "import matplotlib.pyplot as plt # we only need pyplot\n",
    "sb.set() # set the default Seaborn style for graphics"
   ]
  },
  {
   "cell_type": "markdown",
   "metadata": {},
   "source": [
    "# Data Preparation"
   ]
  },
  {
   "cell_type": "code",
   "execution_count": 24,
   "metadata": {},
   "outputs": [
    {
     "data": {
      "text/html": [
       "<div>\n",
       "<style scoped>\n",
       "    .dataframe tbody tr th:only-of-type {\n",
       "        vertical-align: middle;\n",
       "    }\n",
       "\n",
       "    .dataframe tbody tr th {\n",
       "        vertical-align: top;\n",
       "    }\n",
       "\n",
       "    .dataframe thead th {\n",
       "        text-align: right;\n",
       "    }\n",
       "</style>\n",
       "<table border=\"1\" class=\"dataframe\">\n",
       "  <thead>\n",
       "    <tr style=\"text-align: right;\">\n",
       "      <th></th>\n",
       "      <th>id</th>\n",
       "      <th>title</th>\n",
       "      <th>is_paid</th>\n",
       "      <th>price</th>\n",
       "      <th>headline</th>\n",
       "      <th>num_subscribers</th>\n",
       "      <th>avg_rating</th>\n",
       "      <th>num_reviews</th>\n",
       "      <th>num_comments</th>\n",
       "      <th>num_lectures</th>\n",
       "      <th>content_length_min</th>\n",
       "      <th>published_time</th>\n",
       "      <th>last_update_date</th>\n",
       "      <th>category</th>\n",
       "      <th>subcategory</th>\n",
       "      <th>topic</th>\n",
       "      <th>language</th>\n",
       "      <th>course_url</th>\n",
       "      <th>instructor_name</th>\n",
       "      <th>instructor_url</th>\n",
       "    </tr>\n",
       "  </thead>\n",
       "  <tbody>\n",
       "    <tr>\n",
       "      <th>0</th>\n",
       "      <td>4715</td>\n",
       "      <td>Online Vegan Vegetarian Cooking School</td>\n",
       "      <td>True</td>\n",
       "      <td>24.99</td>\n",
       "      <td>Learn to cook delicious vegan recipes. Filmed ...</td>\n",
       "      <td>2231</td>\n",
       "      <td>3.75</td>\n",
       "      <td>134</td>\n",
       "      <td>42</td>\n",
       "      <td>37</td>\n",
       "      <td>1268</td>\n",
       "      <td>2010-08-05T22:06:13Z</td>\n",
       "      <td>11/6/2020</td>\n",
       "      <td>Lifestyle</td>\n",
       "      <td>Food &amp; Beverage</td>\n",
       "      <td>Vegan Cooking</td>\n",
       "      <td>English</td>\n",
       "      <td>/course/vegan-vegetarian-cooking-school/</td>\n",
       "      <td>Angela Poch</td>\n",
       "      <td>/user/angelapoch/</td>\n",
       "    </tr>\n",
       "    <tr>\n",
       "      <th>1</th>\n",
       "      <td>1769</td>\n",
       "      <td>The Lean Startup Talk at Stanford E-Corner</td>\n",
       "      <td>False</td>\n",
       "      <td>0.00</td>\n",
       "      <td>Debunking Myths of Entrepreneurship A startup ...</td>\n",
       "      <td>26474</td>\n",
       "      <td>4.50</td>\n",
       "      <td>709</td>\n",
       "      <td>112</td>\n",
       "      <td>9</td>\n",
       "      <td>88</td>\n",
       "      <td>2010-01-12T18:09:46Z</td>\n",
       "      <td>NaN</td>\n",
       "      <td>Business</td>\n",
       "      <td>Entrepreneurship</td>\n",
       "      <td>Lean Startup</td>\n",
       "      <td>English</td>\n",
       "      <td>/course/the-lean-startup-debunking-myths-of-en...</td>\n",
       "      <td>Eric Ries</td>\n",
       "      <td>/user/ericries/</td>\n",
       "    </tr>\n",
       "    <tr>\n",
       "      <th>2</th>\n",
       "      <td>5664</td>\n",
       "      <td>How To Become a Vegan, Vegetarian, or Flexitarian</td>\n",
       "      <td>True</td>\n",
       "      <td>19.99</td>\n",
       "      <td>Get the tools you need for a lifestyle change ...</td>\n",
       "      <td>1713</td>\n",
       "      <td>4.40</td>\n",
       "      <td>41</td>\n",
       "      <td>13</td>\n",
       "      <td>14</td>\n",
       "      <td>82</td>\n",
       "      <td>2010-10-13T18:07:17Z</td>\n",
       "      <td>10/9/2019</td>\n",
       "      <td>Lifestyle</td>\n",
       "      <td>Other Lifestyle</td>\n",
       "      <td>Vegan Cooking</td>\n",
       "      <td>English</td>\n",
       "      <td>/course/see-my-personal-motivation-for-becomin...</td>\n",
       "      <td>Angela Poch</td>\n",
       "      <td>/user/angelapoch/</td>\n",
       "    </tr>\n",
       "    <tr>\n",
       "      <th>3</th>\n",
       "      <td>7723</td>\n",
       "      <td>How to Train a Puppy</td>\n",
       "      <td>True</td>\n",
       "      <td>199.99</td>\n",
       "      <td>Train your puppy the right way with Dr. Ian Du...</td>\n",
       "      <td>4988</td>\n",
       "      <td>4.80</td>\n",
       "      <td>395</td>\n",
       "      <td>88</td>\n",
       "      <td>36</td>\n",
       "      <td>1511</td>\n",
       "      <td>2011-06-20T20:08:38Z</td>\n",
       "      <td>1/13/2016</td>\n",
       "      <td>Lifestyle</td>\n",
       "      <td>Pet Care &amp; Training</td>\n",
       "      <td>Pet Training</td>\n",
       "      <td>English</td>\n",
       "      <td>/course/complete-dunbar-collection/</td>\n",
       "      <td>Ian Dunbar</td>\n",
       "      <td>/user/ian-dunbar/</td>\n",
       "    </tr>\n",
       "    <tr>\n",
       "      <th>4</th>\n",
       "      <td>8157</td>\n",
       "      <td>Web Design from the Ground Up</td>\n",
       "      <td>True</td>\n",
       "      <td>159.99</td>\n",
       "      <td>Learn web design online: Everything you need t...</td>\n",
       "      <td>1266</td>\n",
       "      <td>4.75</td>\n",
       "      <td>38</td>\n",
       "      <td>12</td>\n",
       "      <td>38</td>\n",
       "      <td>569</td>\n",
       "      <td>2011-06-23T18:31:20Z</td>\n",
       "      <td>NaN</td>\n",
       "      <td>Design</td>\n",
       "      <td>Web Design</td>\n",
       "      <td>Web Design</td>\n",
       "      <td>English</td>\n",
       "      <td>/course/web-design-from-the-ground-up/</td>\n",
       "      <td>E Learning Lab</td>\n",
       "      <td>/user/edwin-ang-2/</td>\n",
       "    </tr>\n",
       "  </tbody>\n",
       "</table>\n",
       "</div>"
      ],
      "text/plain": [
       "     id                                              title  is_paid   price  \\\n",
       "0  4715             Online Vegan Vegetarian Cooking School     True   24.99   \n",
       "1  1769         The Lean Startup Talk at Stanford E-Corner    False    0.00   \n",
       "2  5664  How To Become a Vegan, Vegetarian, or Flexitarian     True   19.99   \n",
       "3  7723                               How to Train a Puppy     True  199.99   \n",
       "4  8157                      Web Design from the Ground Up     True  159.99   \n",
       "\n",
       "                                            headline  num_subscribers  \\\n",
       "0  Learn to cook delicious vegan recipes. Filmed ...             2231   \n",
       "1  Debunking Myths of Entrepreneurship A startup ...            26474   \n",
       "2  Get the tools you need for a lifestyle change ...             1713   \n",
       "3  Train your puppy the right way with Dr. Ian Du...             4988   \n",
       "4  Learn web design online: Everything you need t...             1266   \n",
       "\n",
       "   avg_rating  num_reviews  num_comments  num_lectures  content_length_min  \\\n",
       "0        3.75          134            42            37                1268   \n",
       "1        4.50          709           112             9                  88   \n",
       "2        4.40           41            13            14                  82   \n",
       "3        4.80          395            88            36                1511   \n",
       "4        4.75           38            12            38                 569   \n",
       "\n",
       "         published_time last_update_date   category          subcategory  \\\n",
       "0  2010-08-05T22:06:13Z        11/6/2020  Lifestyle      Food & Beverage   \n",
       "1  2010-01-12T18:09:46Z              NaN   Business     Entrepreneurship   \n",
       "2  2010-10-13T18:07:17Z        10/9/2019  Lifestyle      Other Lifestyle   \n",
       "3  2011-06-20T20:08:38Z        1/13/2016  Lifestyle  Pet Care & Training   \n",
       "4  2011-06-23T18:31:20Z              NaN     Design           Web Design   \n",
       "\n",
       "           topic language                                         course_url  \\\n",
       "0  Vegan Cooking  English           /course/vegan-vegetarian-cooking-school/   \n",
       "1   Lean Startup  English  /course/the-lean-startup-debunking-myths-of-en...   \n",
       "2  Vegan Cooking  English  /course/see-my-personal-motivation-for-becomin...   \n",
       "3   Pet Training  English                /course/complete-dunbar-collection/   \n",
       "4     Web Design  English             /course/web-design-from-the-ground-up/   \n",
       "\n",
       "  instructor_name      instructor_url  \n",
       "0     Angela Poch   /user/angelapoch/  \n",
       "1       Eric Ries     /user/ericries/  \n",
       "2     Angela Poch   /user/angelapoch/  \n",
       "3      Ian Dunbar   /user/ian-dunbar/  \n",
       "4  E Learning Lab  /user/edwin-ang-2/  "
      ]
     },
     "execution_count": 24,
     "metadata": {},
     "output_type": "execute_result"
    }
   ],
   "source": [
    "# Import the dataset -  Udemy Courses\n",
    "rawcoursedata = pd.read_csv('../../dataset/Course_info.csv')\n",
    "rawcoursedata.head()"
   ]
  },
  {
   "cell_type": "code",
   "execution_count": 25,
   "metadata": {},
   "outputs": [
    {
     "name": "stderr",
     "output_type": "stream",
     "text": [
      "/tmp/ipykernel_2405/1819936238.py:1: FutureWarning: The default value of numeric_only in DataFrame.corr is deprecated. In a future version, it will default to False. Select only valid columns or specify the value of numeric_only to silence this warning.\n",
      "  rawcoursedata.corr()\n"
     ]
    },
    {
     "data": {
      "text/html": [
       "<div>\n",
       "<style scoped>\n",
       "    .dataframe tbody tr th:only-of-type {\n",
       "        vertical-align: middle;\n",
       "    }\n",
       "\n",
       "    .dataframe tbody tr th {\n",
       "        vertical-align: top;\n",
       "    }\n",
       "\n",
       "    .dataframe thead th {\n",
       "        text-align: right;\n",
       "    }\n",
       "</style>\n",
       "<table border=\"1\" class=\"dataframe\">\n",
       "  <thead>\n",
       "    <tr style=\"text-align: right;\">\n",
       "      <th></th>\n",
       "      <th>id</th>\n",
       "      <th>is_paid</th>\n",
       "      <th>price</th>\n",
       "      <th>num_subscribers</th>\n",
       "      <th>avg_rating</th>\n",
       "      <th>num_reviews</th>\n",
       "      <th>num_comments</th>\n",
       "      <th>num_lectures</th>\n",
       "      <th>content_length_min</th>\n",
       "    </tr>\n",
       "  </thead>\n",
       "  <tbody>\n",
       "    <tr>\n",
       "      <th>id</th>\n",
       "      <td>1.000000</td>\n",
       "      <td>0.002794</td>\n",
       "      <td>-0.006701</td>\n",
       "      <td>-0.147775</td>\n",
       "      <td>-0.256726</td>\n",
       "      <td>-0.105234</td>\n",
       "      <td>-0.133923</td>\n",
       "      <td>-0.116034</td>\n",
       "      <td>-0.049740</td>\n",
       "    </tr>\n",
       "    <tr>\n",
       "      <th>is_paid</th>\n",
       "      <td>0.002794</td>\n",
       "      <td>1.000000</td>\n",
       "      <td>0.236707</td>\n",
       "      <td>-0.087247</td>\n",
       "      <td>-0.089873</td>\n",
       "      <td>-0.008471</td>\n",
       "      <td>-0.012674</td>\n",
       "      <td>0.132016</td>\n",
       "      <td>0.130122</td>\n",
       "    </tr>\n",
       "    <tr>\n",
       "      <th>price</th>\n",
       "      <td>-0.006701</td>\n",
       "      <td>0.236707</td>\n",
       "      <td>1.000000</td>\n",
       "      <td>0.017964</td>\n",
       "      <td>0.031457</td>\n",
       "      <td>0.032550</td>\n",
       "      <td>0.039304</td>\n",
       "      <td>0.150983</td>\n",
       "      <td>0.154961</td>\n",
       "    </tr>\n",
       "    <tr>\n",
       "      <th>num_subscribers</th>\n",
       "      <td>-0.147775</td>\n",
       "      <td>-0.087247</td>\n",
       "      <td>0.017964</td>\n",
       "      <td>1.000000</td>\n",
       "      <td>0.077144</td>\n",
       "      <td>0.736819</td>\n",
       "      <td>0.730623</td>\n",
       "      <td>0.180190</td>\n",
       "      <td>0.119574</td>\n",
       "    </tr>\n",
       "    <tr>\n",
       "      <th>avg_rating</th>\n",
       "      <td>-0.256726</td>\n",
       "      <td>-0.089873</td>\n",
       "      <td>0.031457</td>\n",
       "      <td>0.077144</td>\n",
       "      <td>1.000000</td>\n",
       "      <td>0.048506</td>\n",
       "      <td>0.060731</td>\n",
       "      <td>0.146017</td>\n",
       "      <td>0.108175</td>\n",
       "    </tr>\n",
       "    <tr>\n",
       "      <th>num_reviews</th>\n",
       "      <td>-0.105234</td>\n",
       "      <td>-0.008471</td>\n",
       "      <td>0.032550</td>\n",
       "      <td>0.736819</td>\n",
       "      <td>0.048506</td>\n",
       "      <td>1.000000</td>\n",
       "      <td>0.951832</td>\n",
       "      <td>0.186023</td>\n",
       "      <td>0.125941</td>\n",
       "    </tr>\n",
       "    <tr>\n",
       "      <th>num_comments</th>\n",
       "      <td>-0.133923</td>\n",
       "      <td>-0.012674</td>\n",
       "      <td>0.039304</td>\n",
       "      <td>0.730623</td>\n",
       "      <td>0.060731</td>\n",
       "      <td>0.951832</td>\n",
       "      <td>1.000000</td>\n",
       "      <td>0.202704</td>\n",
       "      <td>0.137998</td>\n",
       "    </tr>\n",
       "    <tr>\n",
       "      <th>num_lectures</th>\n",
       "      <td>-0.116034</td>\n",
       "      <td>0.132016</td>\n",
       "      <td>0.150983</td>\n",
       "      <td>0.180190</td>\n",
       "      <td>0.146017</td>\n",
       "      <td>0.186023</td>\n",
       "      <td>0.202704</td>\n",
       "      <td>1.000000</td>\n",
       "      <td>0.729714</td>\n",
       "    </tr>\n",
       "    <tr>\n",
       "      <th>content_length_min</th>\n",
       "      <td>-0.049740</td>\n",
       "      <td>0.130122</td>\n",
       "      <td>0.154961</td>\n",
       "      <td>0.119574</td>\n",
       "      <td>0.108175</td>\n",
       "      <td>0.125941</td>\n",
       "      <td>0.137998</td>\n",
       "      <td>0.729714</td>\n",
       "      <td>1.000000</td>\n",
       "    </tr>\n",
       "  </tbody>\n",
       "</table>\n",
       "</div>"
      ],
      "text/plain": [
       "                          id   is_paid     price  num_subscribers  avg_rating  \\\n",
       "id                  1.000000  0.002794 -0.006701        -0.147775   -0.256726   \n",
       "is_paid             0.002794  1.000000  0.236707        -0.087247   -0.089873   \n",
       "price              -0.006701  0.236707  1.000000         0.017964    0.031457   \n",
       "num_subscribers    -0.147775 -0.087247  0.017964         1.000000    0.077144   \n",
       "avg_rating         -0.256726 -0.089873  0.031457         0.077144    1.000000   \n",
       "num_reviews        -0.105234 -0.008471  0.032550         0.736819    0.048506   \n",
       "num_comments       -0.133923 -0.012674  0.039304         0.730623    0.060731   \n",
       "num_lectures       -0.116034  0.132016  0.150983         0.180190    0.146017   \n",
       "content_length_min -0.049740  0.130122  0.154961         0.119574    0.108175   \n",
       "\n",
       "                    num_reviews  num_comments  num_lectures  \\\n",
       "id                    -0.105234     -0.133923     -0.116034   \n",
       "is_paid               -0.008471     -0.012674      0.132016   \n",
       "price                  0.032550      0.039304      0.150983   \n",
       "num_subscribers        0.736819      0.730623      0.180190   \n",
       "avg_rating             0.048506      0.060731      0.146017   \n",
       "num_reviews            1.000000      0.951832      0.186023   \n",
       "num_comments           0.951832      1.000000      0.202704   \n",
       "num_lectures           0.186023      0.202704      1.000000   \n",
       "content_length_min     0.125941      0.137998      0.729714   \n",
       "\n",
       "                    content_length_min  \n",
       "id                           -0.049740  \n",
       "is_paid                       0.130122  \n",
       "price                         0.154961  \n",
       "num_subscribers               0.119574  \n",
       "avg_rating                    0.108175  \n",
       "num_reviews                   0.125941  \n",
       "num_comments                  0.137998  \n",
       "num_lectures                  0.729714  \n",
       "content_length_min            1.000000  "
      ]
     },
     "execution_count": 25,
     "metadata": {},
     "output_type": "execute_result"
    }
   ],
   "source": [
    "rawcoursedata.corr()"
   ]
  },
  {
   "cell_type": "markdown",
   "metadata": {},
   "source": [
    "# Clean Data\n",
    "### 1. Standardise the Variable Names"
   ]
  },
  {
   "cell_type": "code",
   "execution_count": 26,
   "metadata": {},
   "outputs": [
    {
     "name": "stdout",
     "output_type": "stream",
     "text": [
      "Data type :  <class 'pandas.core.frame.DataFrame'>\n",
      "avg_rating            float64\n",
      "num_lectures            int64\n",
      "content_length_min      int64\n",
      "price                 float64\n",
      "dtype: object\n",
      "Data dims :  (209734, 4)\n"
     ]
    }
   ],
   "source": [
    "#select equired columns\n",
    "ratingNumberLength_raw = pd.DataFrame(rawcoursedata[['avg_rating','num_lectures','content_length_min','price']])\n",
    "\n",
    "# Get the data types and data dimensions:\n",
    "print(\"Data type : \", type(ratingNumberLength_raw))\n",
    "print(ratingNumberLength_raw.dtypes)\n",
    "print(\"Data dims : \", ratingNumberLength_raw.shape)"
   ]
  },
  {
   "cell_type": "code",
   "execution_count": 27,
   "metadata": {},
   "outputs": [
    {
     "name": "stdout",
     "output_type": "stream",
     "text": [
      "<class 'pandas.core.frame.DataFrame'>\n",
      "RangeIndex: 209734 entries, 0 to 209733\n",
      "Data columns (total 4 columns):\n",
      " #   Column              Non-Null Count   Dtype  \n",
      "---  ------              --------------   -----  \n",
      " 0   AVG_RATING          209734 non-null  float64\n",
      " 1   NUM_LECTURES        209734 non-null  int64  \n",
      " 2   CONTENT_LENGTH_MIN  209734 non-null  int64  \n",
      " 3   PRICE               209734 non-null  float64\n",
      "dtypes: float64(2), int64(2)\n",
      "memory usage: 6.4 MB\n"
     ]
    }
   ],
   "source": [
    "# Convert all Variable Names to UPPERCASE\n",
    "ratingNumberLength_raw.columns = ratingNumberLength_raw.columns.str.upper()\n",
    "\n",
    "# Print the Variable Information to check\n",
    "ratingNumberLength_raw.info()"
   ]
  },
  {
   "cell_type": "markdown",
   "metadata": {},
   "source": [
    "### 2.Remove outliers"
   ]
  },
  {
   "cell_type": "code",
   "execution_count": 28,
   "metadata": {},
   "outputs": [
    {
     "name": "stdout",
     "output_type": "stream",
     "text": [
      "<class 'str'>, AVG_RATING => 3.8, 4.625\n",
      "[AVG_RATING] total outliers: 29601\n",
      "<class 'str'>, NUM_LECTURES => 11.0, 42.0\n",
      "[NUM_LECTURES] total outliers: 16890\n",
      "<class 'str'>, CONTENT_LENGTH_MIN => 69.0, 289.0\n",
      "[CONTENT_LENGTH_MIN] total outliers: 19173\n",
      "<class 'str'>, PRICE => 19.99, 99.99\n",
      "[PRICE] total outliers: 11404\n"
     ]
    },
    {
     "data": {
      "image/png": "[encoded data removed]",
      "text/plain": [
       "<Figure size 2400x1200 with 4 Axes>"
      ]
     },
     "metadata": {},
     "output_type": "display_data"
    }
   ],
   "source": [
    "f, axes = plt.subplots(4, 1, figsize=(24, 12))\n",
    "# Draw the Boxplots \n",
    "sb.boxplot(data = ratingNumberLength_raw.AVG_RATING, orient = \"h\", ax = axes[0])\n",
    "sb.boxplot(data = ratingNumberLength_raw.NUM_LECTURES, orient = \"h\", ax = axes[1])\n",
    "sb.boxplot(data = ratingNumberLength_raw.CONTENT_LENGTH_MIN, orient = \"h\", ax = axes[2])\n",
    "sb.boxplot(data = ratingNumberLength_raw.PRICE, orient = \"h\", ax = axes[3])\n",
    "\n",
    "# Calculate the quartiles and Count the number of outliers\n",
    "for column in ratingNumberLength_raw.columns:\n",
    "    column_data: pd.DataFrame = ratingNumberLength_raw[column]\n",
    "    q1 = column_data.quantile(0.25)\n",
    "    q3 = column_data.quantile(0.75)\n",
    "    interquartile_range = q3-q1\n",
    "\n",
    "    print(f\"{type(column)}, {column} => {q1}, {q3}\")\n",
    "\n",
    "    lower_whisker = q1-1.5*interquartile_range\n",
    "    upper_whisker = q3+1.5*interquartile_range\n",
    "\n",
    "    outliers = sum( (column_data < lower_whisker) | (column_data > upper_whisker) )\n",
    "    print(f\"[{column}] total outliers: { outliers }\")\n"
   ]
  },
  {
   "cell_type": "markdown",
   "metadata": {},
   "source": [
    "#### To remove"
   ]
  },
  {
   "cell_type": "code",
   "execution_count": 29,
   "metadata": {},
   "outputs": [
    {
     "name": "stdout",
     "output_type": "stream",
     "text": [
      "Union outliers: 60770\n"
     ]
    },
    {
     "data": {
      "text/plain": [
       "<bound method NDFrame.head of         AVG_RATING  NUM_LECTURES  CONTENT_LENGTH_MIN   PRICE\n",
       "1         4.500000             9                  88    0.00\n",
       "2         4.400000            14                  82   19.99\n",
       "4         4.750000            38                 569  159.99\n",
       "6         3.850000             8                  80   39.99\n",
       "7         4.000000            56                 363   74.99\n",
       "...            ...           ...                 ...     ...\n",
       "209706    5.000000            11                  68   24.99\n",
       "209711    4.650000            56                 275   34.99\n",
       "209719    4.214286            37                 397   84.99\n",
       "209723    5.000000            10                  44   19.99\n",
       "209725    5.000000             5                  32   69.99\n",
       "\n",
       "[148964 rows x 4 columns]>"
      ]
     },
     "execution_count": 29,
     "metadata": {},
     "output_type": "execute_result"
    }
   ],
   "source": [
    "q1 = ratingNumberLength_raw.quantile(0.25)\n",
    "q3 = ratingNumberLength_raw.quantile(0.75)\n",
    "interquartile_range = q3-q1\n",
    "\n",
    "lower_whisker = q1-1.5*interquartile_range\n",
    "upper_whisker = q3+1.5*interquartile_range\n",
    "\n",
    "outliers = ((ratingNumberLength_raw < lower_whisker) | (ratingNumberLength_raw > upper_whisker)).any(axis=1)\n",
    "ratingNumberLength_cleanup: pd.DataFrame = ratingNumberLength_raw[~outliers]\n",
    "print(f\"Union outliers: {sum(outliers)}\")\n",
    "ratingNumberLength_cleanup.head"
   ]
  },
  {
   "cell_type": "code",
   "execution_count": 30,
   "metadata": {},
   "outputs": [
    {
     "name": "stdout",
     "output_type": "stream",
     "text": [
      "<class 'pandas.core.frame.DataFrame'>\n",
      "Int64Index: 148964 entries, 1 to 209725\n",
      "Data columns (total 4 columns):\n",
      " #   Column              Non-Null Count   Dtype  \n",
      "---  ------              --------------   -----  \n",
      " 0   AVG_RATING          148964 non-null  float64\n",
      " 1   NUM_LECTURES        148964 non-null  int64  \n",
      " 2   CONTENT_LENGTH_MIN  148964 non-null  int64  \n",
      " 3   PRICE               148964 non-null  float64\n",
      "dtypes: float64(2), int64(2)\n",
      "memory usage: 5.7 MB\n"
     ]
    }
   ],
   "source": [
    "ratingNumberLength_cleanup.info()"
   ]
  },
  {
   "cell_type": "code",
   "execution_count": 31,
   "metadata": {},
   "outputs": [
    {
     "data": {
      "text/html": [
       "<div>\n",
       "<style scoped>\n",
       "    .dataframe tbody tr th:only-of-type {\n",
       "        vertical-align: middle;\n",
       "    }\n",
       "\n",
       "    .dataframe tbody tr th {\n",
       "        vertical-align: top;\n",
       "    }\n",
       "\n",
       "    .dataframe thead th {\n",
       "        text-align: right;\n",
       "    }\n",
       "</style>\n",
       "<table border=\"1\" class=\"dataframe\">\n",
       "  <thead>\n",
       "    <tr style=\"text-align: right;\">\n",
       "      <th></th>\n",
       "      <th>AVG_RATING</th>\n",
       "      <th>NUM_LECTURES</th>\n",
       "      <th>CONTENT_LENGTH_MIN</th>\n",
       "      <th>PRICE</th>\n",
       "    </tr>\n",
       "  </thead>\n",
       "  <tbody>\n",
       "    <tr>\n",
       "      <th>count</th>\n",
       "      <td>209734.000000</td>\n",
       "      <td>209734.000000</td>\n",
       "      <td>209734.000000</td>\n",
       "      <td>209734.000000</td>\n",
       "    </tr>\n",
       "    <tr>\n",
       "      <th>mean</th>\n",
       "      <td>3.747179</td>\n",
       "      <td>36.548395</td>\n",
       "      <td>265.558856</td>\n",
       "      <td>81.665529</td>\n",
       "    </tr>\n",
       "    <tr>\n",
       "      <th>std</th>\n",
       "      <td>1.533711</td>\n",
       "      <td>51.871962</td>\n",
       "      <td>454.448676</td>\n",
       "      <td>117.317846</td>\n",
       "    </tr>\n",
       "    <tr>\n",
       "      <th>min</th>\n",
       "      <td>0.000000</td>\n",
       "      <td>0.000000</td>\n",
       "      <td>0.000000</td>\n",
       "      <td>0.000000</td>\n",
       "    </tr>\n",
       "    <tr>\n",
       "      <th>25%</th>\n",
       "      <td>3.800000</td>\n",
       "      <td>11.000000</td>\n",
       "      <td>69.000000</td>\n",
       "      <td>19.990000</td>\n",
       "    </tr>\n",
       "    <tr>\n",
       "      <th>50%</th>\n",
       "      <td>4.333334</td>\n",
       "      <td>22.000000</td>\n",
       "      <td>133.000000</td>\n",
       "      <td>34.990000</td>\n",
       "    </tr>\n",
       "    <tr>\n",
       "      <th>75%</th>\n",
       "      <td>4.625000</td>\n",
       "      <td>42.000000</td>\n",
       "      <td>289.000000</td>\n",
       "      <td>99.990000</td>\n",
       "    </tr>\n",
       "    <tr>\n",
       "      <th>max</th>\n",
       "      <td>5.000000</td>\n",
       "      <td>1095.000000</td>\n",
       "      <td>22570.000000</td>\n",
       "      <td>999.990000</td>\n",
       "    </tr>\n",
       "  </tbody>\n",
       "</table>\n",
       "</div>"
      ],
      "text/plain": [
       "          AVG_RATING   NUM_LECTURES  CONTENT_LENGTH_MIN          PRICE\n",
       "count  209734.000000  209734.000000       209734.000000  209734.000000\n",
       "mean        3.747179      36.548395          265.558856      81.665529\n",
       "std         1.533711      51.871962          454.448676     117.317846\n",
       "min         0.000000       0.000000            0.000000       0.000000\n",
       "25%         3.800000      11.000000           69.000000      19.990000\n",
       "50%         4.333334      22.000000          133.000000      34.990000\n",
       "75%         4.625000      42.000000          289.000000      99.990000\n",
       "max         5.000000    1095.000000        22570.000000     999.990000"
      ]
     },
     "execution_count": 31,
     "metadata": {},
     "output_type": "execute_result"
    }
   ],
   "source": [
    "ratingNumberLength_raw.describe()"
   ]
  },
  {
   "cell_type": "code",
   "execution_count": 32,
   "metadata": {},
   "outputs": [
    {
     "data": {
      "text/html": [
       "<div>\n",
       "<style scoped>\n",
       "    .dataframe tbody tr th:only-of-type {\n",
       "        vertical-align: middle;\n",
       "    }\n",
       "\n",
       "    .dataframe tbody tr th {\n",
       "        vertical-align: top;\n",
       "    }\n",
       "\n",
       "    .dataframe thead th {\n",
       "        text-align: right;\n",
       "    }\n",
       "</style>\n",
       "<table border=\"1\" class=\"dataframe\">\n",
       "  <thead>\n",
       "    <tr style=\"text-align: right;\">\n",
       "      <th></th>\n",
       "      <th>AVG_RATING</th>\n",
       "      <th>NUM_LECTURES</th>\n",
       "      <th>CONTENT_LENGTH_MIN</th>\n",
       "      <th>PRICE</th>\n",
       "    </tr>\n",
       "  </thead>\n",
       "  <tbody>\n",
       "    <tr>\n",
       "      <th>count</th>\n",
       "      <td>148964.000000</td>\n",
       "      <td>148964.000000</td>\n",
       "      <td>148964.000000</td>\n",
       "      <td>148964.000000</td>\n",
       "    </tr>\n",
       "    <tr>\n",
       "      <th>mean</th>\n",
       "      <td>4.321367</td>\n",
       "      <td>25.210608</td>\n",
       "      <td>161.090445</td>\n",
       "      <td>57.700246</td>\n",
       "    </tr>\n",
       "    <tr>\n",
       "      <th>std</th>\n",
       "      <td>0.474289</td>\n",
       "      <td>18.684809</td>\n",
       "      <td>130.608495</td>\n",
       "      <td>60.266377</td>\n",
       "    </tr>\n",
       "    <tr>\n",
       "      <th>min</th>\n",
       "      <td>2.562500</td>\n",
       "      <td>0.000000</td>\n",
       "      <td>0.000000</td>\n",
       "      <td>0.000000</td>\n",
       "    </tr>\n",
       "    <tr>\n",
       "      <th>25%</th>\n",
       "      <td>4.050000</td>\n",
       "      <td>11.000000</td>\n",
       "      <td>66.000000</td>\n",
       "      <td>19.990000</td>\n",
       "    </tr>\n",
       "    <tr>\n",
       "      <th>50%</th>\n",
       "      <td>4.400000</td>\n",
       "      <td>20.000000</td>\n",
       "      <td>118.000000</td>\n",
       "      <td>29.990000</td>\n",
       "    </tr>\n",
       "    <tr>\n",
       "      <th>75%</th>\n",
       "      <td>4.650000</td>\n",
       "      <td>35.000000</td>\n",
       "      <td>221.000000</td>\n",
       "      <td>84.990000</td>\n",
       "    </tr>\n",
       "    <tr>\n",
       "      <th>max</th>\n",
       "      <td>5.000000</td>\n",
       "      <td>88.000000</td>\n",
       "      <td>619.000000</td>\n",
       "      <td>219.990000</td>\n",
       "    </tr>\n",
       "  </tbody>\n",
       "</table>\n",
       "</div>"
      ],
      "text/plain": [
       "          AVG_RATING   NUM_LECTURES  CONTENT_LENGTH_MIN          PRICE\n",
       "count  148964.000000  148964.000000       148964.000000  148964.000000\n",
       "mean        4.321367      25.210608          161.090445      57.700246\n",
       "std         0.474289      18.684809          130.608495      60.266377\n",
       "min         2.562500       0.000000            0.000000       0.000000\n",
       "25%         4.050000      11.000000           66.000000      19.990000\n",
       "50%         4.400000      20.000000          118.000000      29.990000\n",
       "75%         4.650000      35.000000          221.000000      84.990000\n",
       "max         5.000000      88.000000          619.000000     219.990000"
      ]
     },
     "execution_count": 32,
     "metadata": {},
     "output_type": "execute_result"
    }
   ],
   "source": [
    "ratingNumberLength_cleanup.describe()"
   ]
  },
  {
   "cell_type": "markdown",
   "metadata": {},
   "source": [
    "# Exploratory Data Analysis / Visualization"
   ]
  },
  {
   "cell_type": "code",
   "execution_count": 33,
   "metadata": {},
   "outputs": [
    {
     "ename": "ValueError",
     "evalue": "The truth value of a Series is ambiguous. Use a.empty, a.bool(), a.item(), a.any() or a.all().",
     "output_type": "error",
     "traceback": [
      "\u001b[0;31m---------------------------------------------------------------------------\u001b[0m",
      "\u001b[0;31mValueError\u001b[0m                                Traceback (most recent call last)",
      "Cell \u001b[0;32mIn[33], line 6\u001b[0m\n\u001b[1;32m      4\u001b[0m count \u001b[39m=\u001b[39m \u001b[39m0\u001b[39m\n\u001b[1;32m      5\u001b[0m \u001b[39mfor\u001b[39;00m var \u001b[39min\u001b[39;00m ratingNumberLength_cleanup:\n\u001b[0;32m----> 6\u001b[0m     sb\u001b[39m.\u001b[39;49mboxplot(x\u001b[39m=\u001b[39;49m[var], data\u001b[39m=\u001b[39;49mratingNumberLength_cleanup, orient \u001b[39m=\u001b[39;49m \u001b[39m\"\u001b[39;49m\u001b[39mh\u001b[39;49m\u001b[39m\"\u001b[39;49m, ax \u001b[39m=\u001b[39;49m axes[count,\u001b[39m0\u001b[39;49m])\n\u001b[1;32m      7\u001b[0m     \u001b[39m#sb.histplot(x=[var], data=ratingNumberLength_cleanup, ax = axes[count,1])\u001b[39;00m\n\u001b[1;32m      8\u001b[0m     sb\u001b[39m.\u001b[39mviolinplot(x\u001b[39m=\u001b[39m[var], data\u001b[39m=\u001b[39mratingNumberLength_cleanup, orient \u001b[39m=\u001b[39m \u001b[39m\"\u001b[39m\u001b[39mh\u001b[39m\u001b[39m\"\u001b[39m, ax \u001b[39m=\u001b[39m axes[count,\u001b[39m2\u001b[39m])\n",
      "File \u001b[0;32m~/miniconda3/envs/sc1015/lib/python3.9/site-packages/seaborn/categorical.py:2231\u001b[0m, in \u001b[0;36mboxplot\u001b[0;34m(data, x, y, hue, order, hue_order, orient, color, palette, saturation, width, dodge, fliersize, linewidth, whis, ax, **kwargs)\u001b[0m\n\u001b[1;32m   2224\u001b[0m \u001b[39mdef\u001b[39;00m \u001b[39mboxplot\u001b[39m(\n\u001b[1;32m   2225\u001b[0m     data\u001b[39m=\u001b[39m\u001b[39mNone\u001b[39;00m, \u001b[39m*\u001b[39m, x\u001b[39m=\u001b[39m\u001b[39mNone\u001b[39;00m, y\u001b[39m=\u001b[39m\u001b[39mNone\u001b[39;00m, hue\u001b[39m=\u001b[39m\u001b[39mNone\u001b[39;00m, order\u001b[39m=\u001b[39m\u001b[39mNone\u001b[39;00m, hue_order\u001b[39m=\u001b[39m\u001b[39mNone\u001b[39;00m,\n\u001b[1;32m   2226\u001b[0m     orient\u001b[39m=\u001b[39m\u001b[39mNone\u001b[39;00m, color\u001b[39m=\u001b[39m\u001b[39mNone\u001b[39;00m, palette\u001b[39m=\u001b[39m\u001b[39mNone\u001b[39;00m, saturation\u001b[39m=\u001b[39m\u001b[39m.75\u001b[39m, width\u001b[39m=\u001b[39m\u001b[39m.8\u001b[39m,\n\u001b[1;32m   2227\u001b[0m     dodge\u001b[39m=\u001b[39m\u001b[39mTrue\u001b[39;00m, fliersize\u001b[39m=\u001b[39m\u001b[39m5\u001b[39m, linewidth\u001b[39m=\u001b[39m\u001b[39mNone\u001b[39;00m, whis\u001b[39m=\u001b[39m\u001b[39m1.5\u001b[39m, ax\u001b[39m=\u001b[39m\u001b[39mNone\u001b[39;00m,\n\u001b[1;32m   2228\u001b[0m     \u001b[39m*\u001b[39m\u001b[39m*\u001b[39mkwargs\n\u001b[1;32m   2229\u001b[0m ):\n\u001b[0;32m-> 2231\u001b[0m     plotter \u001b[39m=\u001b[39m _BoxPlotter(x, y, hue, data, order, hue_order,\n\u001b[1;32m   2232\u001b[0m                           orient, color, palette, saturation,\n\u001b[1;32m   2233\u001b[0m                           width, dodge, fliersize, linewidth)\n\u001b[1;32m   2235\u001b[0m     \u001b[39mif\u001b[39;00m ax \u001b[39mis\u001b[39;00m \u001b[39mNone\u001b[39;00m:\n\u001b[1;32m   2236\u001b[0m         ax \u001b[39m=\u001b[39m plt\u001b[39m.\u001b[39mgca()\n",
      "File \u001b[0;32m~/miniconda3/envs/sc1015/lib/python3.9/site-packages/seaborn/categorical.py:785\u001b[0m, in \u001b[0;36m_BoxPlotter.__init__\u001b[0;34m(self, x, y, hue, data, order, hue_order, orient, color, palette, saturation, width, dodge, fliersize, linewidth)\u001b[0m\n\u001b[1;32m    781\u001b[0m \u001b[39mdef\u001b[39;00m \u001b[39m__init__\u001b[39m(\u001b[39mself\u001b[39m, x, y, hue, data, order, hue_order,\n\u001b[1;32m    782\u001b[0m              orient, color, palette, saturation,\n\u001b[1;32m    783\u001b[0m              width, dodge, fliersize, linewidth):\n\u001b[0;32m--> 785\u001b[0m     \u001b[39mself\u001b[39;49m\u001b[39m.\u001b[39;49mestablish_variables(x, y, hue, data, orient, order, hue_order)\n\u001b[1;32m    786\u001b[0m     \u001b[39mself\u001b[39m\u001b[39m.\u001b[39mestablish_colors(color, palette, saturation)\n\u001b[1;32m    788\u001b[0m     \u001b[39mself\u001b[39m\u001b[39m.\u001b[39mdodge \u001b[39m=\u001b[39m dodge\n",
      "File \u001b[0;32m~/miniconda3/envs/sc1015/lib/python3.9/site-packages/seaborn/categorical.py:544\u001b[0m, in \u001b[0;36m_CategoricalPlotter.establish_variables\u001b[0;34m(self, x, y, hue, data, orient, order, hue_order, units)\u001b[0m\n\u001b[1;32m    541\u001b[0m         \u001b[39mraise\u001b[39;00m \u001b[39mValueError\u001b[39;00m(err)\n\u001b[1;32m    543\u001b[0m \u001b[39m# Figure out the plotting orientation\u001b[39;00m\n\u001b[0;32m--> 544\u001b[0m orient \u001b[39m=\u001b[39m infer_orient(\n\u001b[1;32m    545\u001b[0m     x, y, orient, require_numeric\u001b[39m=\u001b[39;49m\u001b[39mself\u001b[39;49m\u001b[39m.\u001b[39;49mrequire_numeric\n\u001b[1;32m    546\u001b[0m )\n\u001b[1;32m    548\u001b[0m \u001b[39m# Option 2a:\u001b[39;00m\n\u001b[1;32m    549\u001b[0m \u001b[39m# We are plotting a single set of data\u001b[39;00m\n\u001b[1;32m    550\u001b[0m \u001b[39m# ------------------------------------\u001b[39;00m\n\u001b[1;32m    551\u001b[0m \u001b[39mif\u001b[39;00m x \u001b[39mis\u001b[39;00m \u001b[39mNone\u001b[39;00m \u001b[39mor\u001b[39;00m y \u001b[39mis\u001b[39;00m \u001b[39mNone\u001b[39;00m:\n\u001b[1;32m    552\u001b[0m \n\u001b[1;32m    553\u001b[0m     \u001b[39m# Determine where the data are\u001b[39;00m\n",
      "File \u001b[0;32m~/miniconda3/envs/sc1015/lib/python3.9/site-packages/seaborn/_oldcore.py:1584\u001b[0m, in \u001b[0;36minfer_orient\u001b[0;34m(x, y, orient, require_numeric)\u001b[0m\n\u001b[1;32m   1556\u001b[0m \u001b[39mdef\u001b[39;00m \u001b[39minfer_orient\u001b[39m(x\u001b[39m=\u001b[39m\u001b[39mNone\u001b[39;00m, y\u001b[39m=\u001b[39m\u001b[39mNone\u001b[39;00m, orient\u001b[39m=\u001b[39m\u001b[39mNone\u001b[39;00m, require_numeric\u001b[39m=\u001b[39m\u001b[39mTrue\u001b[39;00m):\n\u001b[1;32m   1557\u001b[0m     \u001b[39m\"\"\"Determine how the plot should be oriented based on the data.\u001b[39;00m\n\u001b[1;32m   1558\u001b[0m \n\u001b[1;32m   1559\u001b[0m \u001b[39m    For historical reasons, the convention is to call a plot \"horizontally\"\u001b[39;00m\n\u001b[0;32m   (...)\u001b[0m\n\u001b[1;32m   1581\u001b[0m \n\u001b[1;32m   1582\u001b[0m \u001b[39m    \"\"\"\u001b[39;00m\n\u001b[0;32m-> 1584\u001b[0m     x_type \u001b[39m=\u001b[39m \u001b[39mNone\u001b[39;00m \u001b[39mif\u001b[39;00m x \u001b[39mis\u001b[39;00m \u001b[39mNone\u001b[39;00m \u001b[39melse\u001b[39;00m variable_type(x)\n\u001b[1;32m   1585\u001b[0m     y_type \u001b[39m=\u001b[39m \u001b[39mNone\u001b[39;00m \u001b[39mif\u001b[39;00m y \u001b[39mis\u001b[39;00m \u001b[39mNone\u001b[39;00m \u001b[39melse\u001b[39;00m variable_type(y)\n\u001b[1;32m   1587\u001b[0m     nonnumeric_dv_error \u001b[39m=\u001b[39m \u001b[39m\"\u001b[39m\u001b[39m{}\u001b[39;00m\u001b[39m orientation requires numeric `\u001b[39m\u001b[39m{}\u001b[39;00m\u001b[39m` variable.\u001b[39m\u001b[39m\"\u001b[39m\n",
      "File \u001b[0;32m~/miniconda3/envs/sc1015/lib/python3.9/site-packages/seaborn/_oldcore.py:1502\u001b[0m, in \u001b[0;36mvariable_type\u001b[0;34m(vector, boolean_type)\u001b[0m\n\u001b[1;32m   1499\u001b[0m     \u001b[39mreturn\u001b[39;00m VariableType(\u001b[39m\"\u001b[39m\u001b[39mcategorical\u001b[39m\u001b[39m\"\u001b[39m)\n\u001b[1;32m   1501\u001b[0m \u001b[39m# Special-case all-na data, which is always \"numeric\"\u001b[39;00m\n\u001b[0;32m-> 1502\u001b[0m \u001b[39mif\u001b[39;00m pd\u001b[39m.\u001b[39misna(vector)\u001b[39m.\u001b[39mall():\n\u001b[1;32m   1503\u001b[0m     \u001b[39mreturn\u001b[39;00m VariableType(\u001b[39m\"\u001b[39m\u001b[39mnumeric\u001b[39m\u001b[39m\"\u001b[39m)\n\u001b[1;32m   1505\u001b[0m \u001b[39m# Special-case binary/boolean data, allow caller to determine\u001b[39;00m\n\u001b[1;32m   1506\u001b[0m \u001b[39m# This triggers a numpy warning when vector has strings/objects\u001b[39;00m\n\u001b[1;32m   1507\u001b[0m \u001b[39m# https://github.com/numpy/numpy/issues/6784\u001b[39;00m\n\u001b[0;32m   (...)\u001b[0m\n\u001b[1;32m   1511\u001b[0m \u001b[39m# https://github.com/numpy/numpy/issues/13548\u001b[39;00m\n\u001b[1;32m   1512\u001b[0m \u001b[39m# This is considered a bug by numpy and will likely go away.\u001b[39;00m\n",
      "File \u001b[0;32m~/miniconda3/envs/sc1015/lib/python3.9/site-packages/pandas/core/generic.py:1527\u001b[0m, in \u001b[0;36mNDFrame.__nonzero__\u001b[0;34m(self)\u001b[0m\n\u001b[1;32m   1525\u001b[0m \u001b[39m@final\u001b[39m\n\u001b[1;32m   1526\u001b[0m \u001b[39mdef\u001b[39;00m \u001b[39m__nonzero__\u001b[39m(\u001b[39mself\u001b[39m) \u001b[39m-\u001b[39m\u001b[39m>\u001b[39m NoReturn:\n\u001b[0;32m-> 1527\u001b[0m     \u001b[39mraise\u001b[39;00m \u001b[39mValueError\u001b[39;00m(\n\u001b[1;32m   1528\u001b[0m         \u001b[39mf\u001b[39m\u001b[39m\"\u001b[39m\u001b[39mThe truth value of a \u001b[39m\u001b[39m{\u001b[39;00m\u001b[39mtype\u001b[39m(\u001b[39mself\u001b[39m)\u001b[39m.\u001b[39m\u001b[39m__name__\u001b[39m\u001b[39m}\u001b[39;00m\u001b[39m is ambiguous. \u001b[39m\u001b[39m\"\u001b[39m\n\u001b[1;32m   1529\u001b[0m         \u001b[39m\"\u001b[39m\u001b[39mUse a.empty, a.bool(), a.item(), a.any() or a.all().\u001b[39m\u001b[39m\"\u001b[39m\n\u001b[1;32m   1530\u001b[0m     )\n",
      "\u001b[0;31mValueError\u001b[0m: The truth value of a Series is ambiguous. Use a.empty, a.bool(), a.item(), a.any() or a.all()."
     ]
    },
    {
     "data": {
      "image/png": "[encoded data removed]",
      "text/plain": [
       "<Figure size 1800x2400 with 16 Axes>"
      ]
     },
     "metadata": {},
     "output_type": "display_data"
    }
   ],
   "source": [
    "# Draw the distributions of all variables\n",
    "f, axes = plt.subplots(4, 4, figsize=(18, 24))\n",
    "\n",
    "count = 0\n",
    "for var in ratingNumberLength_cleanup:\n",
    "    sb.boxplot(x=[var], data=ratingNumberLength_cleanup, orient = \"h\", ax = axes[count,0])\n",
    "    #sb.histplot(x=[var], data=ratingNumberLength_cleanup, ax = axes[count,1])\n",
    "    sb.violinplot(x=[var], data=ratingNumberLength_cleanup, orient = \"h\", ax = axes[count,2])\n",
    "    count += 1"
   ]
  },
  {
   "cell_type": "code",
   "execution_count": null,
   "metadata": {},
   "outputs": [],
   "source": [
    "# Draw pairs of variables against one another\n",
    "sb.pairplot(data = ratingNumberLength_cleanup)"
   ]
  },
  {
   "cell_type": "code",
   "execution_count": null,
   "metadata": {},
   "outputs": [],
   "source": [
    "# Correlation Matrix\n",
    "print(ratingNumberLength_cleanup.corr())\n",
    "\n",
    "# Heatmap of the Correlation Matrix\n",
    "f = plt.figure(figsize=(12, 12))\n",
    "sb.heatmap(ratingNumberLength_cleanup.corr(), vmin = -1, vmax = 1, linewidths = 1,\n",
    "           annot = True, fmt = \".2f\", annot_kws = {\"size\": 18}, cmap = \"RdBu\")"
   ]
  },
  {
   "cell_type": "markdown",
   "metadata": {},
   "source": [
    "\n",
    "\n",
    "# Observtion"
   ]
  },
  {
   "cell_type": "markdown",
   "metadata": {},
   "source": [
    "#### There is not a strong relationship between avg_rating and num_lectures,content_length_min"
   ]
  },
  {
   "cell_type": "markdown",
   "metadata": {},
   "source": [
    "####  However, the number of lecture and content length surprisingly has 0.6 of the relationship. This means although course is having more lectures, the length of lectures could be still long. The heatmap also tells not long lecture will have expensive price"
   ]
  },
  {
   "cell_type": "markdown",
   "metadata": {},
   "source": [
    "#### It also shows that the average rating totally has no relationship with the price which is quite surprise "
   ]
  },
  {
   "cell_type": "code",
   "execution_count": null,
   "metadata": {},
   "outputs": [],
   "source": []
  }
 ],
 "metadata": {
  "kernelspec": {
   "display_name": "Python 3",
   "language": "python",
   "name": "python3"
  },
  "language_info": {
   "codemirror_mode": {
    "name": "ipython",
    "version": 3
   },
   "file_extension": ".py",
   "mimetype": "text/x-python",
   "name": "python",
   "nbconvert_exporter": "python",
   "pygments_lexer": "ipython3",
   "version": "3.9.15"
  }
 },
 "nbformat": 4,
 "nbformat_minor": 4
}
