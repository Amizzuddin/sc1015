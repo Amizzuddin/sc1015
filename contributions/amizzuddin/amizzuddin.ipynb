{
 "cells": [
  {
   "cell_type": "code",
   "execution_count": 1,
   "metadata": {},
   "outputs": [],
   "source": [
    "import sys\n",
    "if '..' not in sys.path:\n",
    "    sys.path.insert(0, \"..\")\n",
    "\n",
    "from importnb import imports\n",
    "with imports(\"ipynb\"):\n",
    "    from common.functions import (\n",
    "        load_dataset,\n",
    "        load_parameters,\n",
    "        clean_up_dataset,\n",
    "        print_feature_outliers,\n",
    "        remove_outliers,\n",
    "        generate_numerical_eda_visualization,\n",
    "        generate_categorical_count_visualization,\n",
    "        generate_numerical_heatmap,\n",
    "        generate_numerical_categorical_heatmap,\n",
    "        generate_numerical_vs_categorical_eda_visualization,\n",
    "        generate_kprototype_clusters,\n",
    "        generate_decision_tree_classifier,\n",
    "        generate_confusion_matrix,\n",
    "        generate_decision_tree\n",
    "    )"
   ]
  },
  {
   "attachments": {},
   "cell_type": "markdown",
   "metadata": {},
   "source": [
    "# Exploratory Data Analysis\n",
    "- Objective: Perform EDA on dataset while ensure that all function is working fine\n",
    "- Motivation of Analysis: The type course catergory will impact the number of subscribers, price and average rating "
   ]
  },
  {
   "cell_type": "code",
   "execution_count": 2,
   "metadata": {},
   "outputs": [
    {
     "name": "stdout",
     "output_type": "stream",
     "text": [
      "<class 'pandas.core.frame.DataFrame'>\n",
      "RangeIndex: 209734 entries, 0 to 209733\n",
      "Data columns (total 20 columns):\n",
      " #   Column              Non-Null Count   Dtype         \n",
      "---  ------              --------------   -----         \n",
      " 0   id                  209734 non-null  int64         \n",
      " 1   title               209734 non-null  string        \n",
      " 2   is_paid             209734 non-null  bool          \n",
      " 3   price               209734 non-null  float64       \n",
      " 4   headline            209707 non-null  string        \n",
      " 5   num_subscribers     209734 non-null  int64         \n",
      " 6   avg_rating          209734 non-null  float64       \n",
      " 7   num_reviews         209734 non-null  int64         \n",
      " 8   num_comments        209734 non-null  int64         \n",
      " 9   num_lectures        209734 non-null  int64         \n",
      " 10  content_length_min  209734 non-null  int64         \n",
      " 11  published_time      209734 non-null  object        \n",
      " 12  last_update_date    209597 non-null  datetime64[ns]\n",
      " 13  category            209734 non-null  category      \n",
      " 14  subcategory         209734 non-null  category      \n",
      " 15  topic               208776 non-null  string        \n",
      " 16  language            209734 non-null  category      \n",
      " 17  course_url          209734 non-null  string        \n",
      " 18  instructor_name     209729 non-null  category      \n",
      " 19  instructor_url      209307 non-null  string        \n",
      "dtypes: bool(1), category(4), datetime64[ns](1), float64(2), int64(6), object(1), string(5)\n",
      "memory usage: 28.4+ MB\n"
     ]
    }
   ],
   "source": [
    "DatasetRaw = load_dataset(\"../../dataset\")\n",
    "DatasetRaw.info()"
   ]
  },
  {
   "cell_type": "code",
   "execution_count": 3,
   "metadata": {},
   "outputs": [],
   "source": [
    "parameters = load_parameters(\".\")"
   ]
  },
  {
   "cell_type": "code",
   "execution_count": 4,
   "metadata": {},
   "outputs": [
    {
     "name": "stdout",
     "output_type": "stream",
     "text": [
      "<class 'pandas.core.frame.DataFrame'>\n",
      "RangeIndex: 166104 entries, 0 to 166103\n",
      "Data columns (total 9 columns):\n",
      " #   Column              Non-Null Count   Dtype   \n",
      "---  ------              --------------   -----   \n",
      " 0   price               166104 non-null  float64 \n",
      " 1   num_subscribers     166104 non-null  int64   \n",
      " 2   avg_rating          166104 non-null  float64 \n",
      " 3   num_lectures        166104 non-null  int64   \n",
      " 4   content_length_min  166104 non-null  int64   \n",
      " 5   category            166104 non-null  category\n",
      " 6   subcategory         166104 non-null  category\n",
      " 7   language            166104 non-null  category\n",
      " 8   instructor_name     166104 non-null  category\n",
      "dtypes: category(4), float64(2), int64(3)\n",
      "memory usage: 10.2 MB\n"
     ]
    }
   ],
   "source": [
    "CleanUpDataset = clean_up_dataset(DatasetRaw, parameters)\n",
    "CleanUpDataset.info()"
   ]
  },
  {
   "cell_type": "code",
   "execution_count": 5,
   "metadata": {},
   "outputs": [
    {
     "data": {
      "text/html": [
       "<div>\n",
       "<style scoped>\n",
       "    .dataframe tbody tr th:only-of-type {\n",
       "        vertical-align: middle;\n",
       "    }\n",
       "\n",
       "    .dataframe tbody tr th {\n",
       "        vertical-align: top;\n",
       "    }\n",
       "\n",
       "    .dataframe thead th {\n",
       "        text-align: right;\n",
       "    }\n",
       "</style>\n",
       "<table border=\"1\" class=\"dataframe\">\n",
       "  <thead>\n",
       "    <tr style=\"text-align: right;\">\n",
       "      <th></th>\n",
       "      <th>price</th>\n",
       "      <th>num_subscribers</th>\n",
       "      <th>avg_rating</th>\n",
       "      <th>num_lectures</th>\n",
       "      <th>content_length_min</th>\n",
       "    </tr>\n",
       "  </thead>\n",
       "  <tbody>\n",
       "    <tr>\n",
       "      <th>count</th>\n",
       "      <td>166104.000000</td>\n",
       "      <td>1.661040e+05</td>\n",
       "      <td>166104.000000</td>\n",
       "      <td>166104.000000</td>\n",
       "      <td>166104.000000</td>\n",
       "    </tr>\n",
       "    <tr>\n",
       "      <th>mean</th>\n",
       "      <td>97.887084</td>\n",
       "      <td>2.855176e+03</td>\n",
       "      <td>3.915862</td>\n",
       "      <td>40.322256</td>\n",
       "      <td>291.628967</td>\n",
       "    </tr>\n",
       "    <tr>\n",
       "      <th>std</th>\n",
       "      <td>120.408860</td>\n",
       "      <td>1.506008e+04</td>\n",
       "      <td>1.352376</td>\n",
       "      <td>55.300467</td>\n",
       "      <td>471.545984</td>\n",
       "    </tr>\n",
       "    <tr>\n",
       "      <th>min</th>\n",
       "      <td>11.000000</td>\n",
       "      <td>1.000000e+00</td>\n",
       "      <td>0.000000</td>\n",
       "      <td>0.000000</td>\n",
       "      <td>0.000000</td>\n",
       "    </tr>\n",
       "    <tr>\n",
       "      <th>25%</th>\n",
       "      <td>24.000000</td>\n",
       "      <td>3.000000e+01</td>\n",
       "      <td>3.900000</td>\n",
       "      <td>13.000000</td>\n",
       "      <td>79.000000</td>\n",
       "    </tr>\n",
       "    <tr>\n",
       "      <th>50%</th>\n",
       "      <td>49.990000</td>\n",
       "      <td>1.850000e+02</td>\n",
       "      <td>4.350000</td>\n",
       "      <td>25.000000</td>\n",
       "      <td>156.000000</td>\n",
       "    </tr>\n",
       "    <tr>\n",
       "      <th>75%</th>\n",
       "      <td>129.900000</td>\n",
       "      <td>1.216000e+03</td>\n",
       "      <td>4.650000</td>\n",
       "      <td>47.000000</td>\n",
       "      <td>323.000000</td>\n",
       "    </tr>\n",
       "    <tr>\n",
       "      <th>max</th>\n",
       "      <td>999.990000</td>\n",
       "      <td>1.612862e+06</td>\n",
       "      <td>5.000000</td>\n",
       "      <td>1095.000000</td>\n",
       "      <td>21353.000000</td>\n",
       "    </tr>\n",
       "  </tbody>\n",
       "</table>\n",
       "</div>"
      ],
      "text/plain": [
       "               price  num_subscribers     avg_rating   num_lectures  \\\n",
       "count  166104.000000     1.661040e+05  166104.000000  166104.000000   \n",
       "mean       97.887084     2.855176e+03       3.915862      40.322256   \n",
       "std       120.408860     1.506008e+04       1.352376      55.300467   \n",
       "min        11.000000     1.000000e+00       0.000000       0.000000   \n",
       "25%        24.000000     3.000000e+01       3.900000      13.000000   \n",
       "50%        49.990000     1.850000e+02       4.350000      25.000000   \n",
       "75%       129.900000     1.216000e+03       4.650000      47.000000   \n",
       "max       999.990000     1.612862e+06       5.000000    1095.000000   \n",
       "\n",
       "       content_length_min  \n",
       "count       166104.000000  \n",
       "mean           291.628967  \n",
       "std            471.545984  \n",
       "min              0.000000  \n",
       "25%             79.000000  \n",
       "50%            156.000000  \n",
       "75%            323.000000  \n",
       "max          21353.000000  "
      ]
     },
     "execution_count": 5,
     "metadata": {},
     "output_type": "execute_result"
    }
   ],
   "source": [
    "CleanUpDataset.describe()"
   ]
  },
  {
   "cell_type": "code",
   "execution_count": 6,
   "metadata": {},
   "outputs": [],
   "source": [
    "# generate_numerical_eda_visualization(CleanUpDataset, \"Numerical EDA\")"
   ]
  },
  {
   "cell_type": "code",
   "execution_count": 7,
   "metadata": {},
   "outputs": [
    {
     "name": "stdout",
     "output_type": "stream",
     "text": [
      "[price] total outliers: 7309\n",
      "[num_subscribers] total outliers: 24966\n",
      "[avg_rating] total outliers: 17859\n",
      "[num_lectures] total outliers: 13062\n",
      "[content_length_min] total outliers: 14640\n"
     ]
    }
   ],
   "source": [
    "print_feature_outliers(CleanUpDataset)"
   ]
  },
  {
   "cell_type": "code",
   "execution_count": 8,
   "metadata": {},
   "outputs": [
    {
     "name": "stdout",
     "output_type": "stream",
     "text": [
      "<class 'pandas.core.frame.DataFrame'>\n",
      "RangeIndex: 106240 entries, 0 to 106239\n",
      "Data columns (total 9 columns):\n",
      " #   Column              Non-Null Count   Dtype   \n",
      "---  ------              --------------   -----   \n",
      " 0   price               106240 non-null  float64 \n",
      " 1   num_subscribers     106240 non-null  int64   \n",
      " 2   avg_rating          106240 non-null  float64 \n",
      " 3   num_lectures        106240 non-null  int64   \n",
      " 4   content_length_min  106240 non-null  int64   \n",
      " 5   category            106240 non-null  category\n",
      " 6   subcategory         106240 non-null  category\n",
      " 7   language            106240 non-null  category\n",
      " 8   instructor_name     106240 non-null  category\n",
      "dtypes: category(4), float64(2), int64(3)\n",
      "memory usage: 7.4 MB\n"
     ]
    }
   ],
   "source": [
    "RemovedOutlierDataset = remove_outliers(CleanUpDataset)\n",
    "RemovedOutlierDataset.info()"
   ]
  },
  {
   "cell_type": "code",
   "execution_count": 9,
   "metadata": {},
   "outputs": [],
   "source": [
    "# generate_numerical_eda_visualization(RemovedOutlierDataset, \"[OUTLIERS REMOVED] Numerical EDA\")"
   ]
  },
  {
   "cell_type": "code",
   "execution_count": 10,
   "metadata": {},
   "outputs": [],
   "source": [
    "# generate_categorical_count_visualization(RemovedOutlierDataset, parameters)"
   ]
  },
  {
   "cell_type": "code",
   "execution_count": 11,
   "metadata": {},
   "outputs": [],
   "source": [
    "# generate_numerical_vs_categorical_eda_visualization(RemovedOutlierDataset, parameters, '[UNION outliers removed] num_subscriber VS category')"
   ]
  },
  {
   "cell_type": "code",
   "execution_count": 12,
   "metadata": {},
   "outputs": [],
   "source": [
    "# generate_numerical_heatmap(RemovedOutlierDataset, \"[UNION outliers removed] Numerical heatmap\")"
   ]
  },
  {
   "cell_type": "code",
   "execution_count": 13,
   "metadata": {},
   "outputs": [],
   "source": [
    "# generate_numerical_categorical_heatmap(RemovedOutlierDataset)"
   ]
  },
  {
   "cell_type": "code",
   "execution_count": 14,
   "metadata": {},
   "outputs": [],
   "source": [
    "# generate_categorical_based_on_numerical_feature_heatmap(RemovedOutlierDataset, 'category', 'subcategory', 'avg_rating', 'average rating of course catergory')\n",
    "# generate_categorical_based_on_numerical_feature_heatmap(RemovedOutlierDataset, 'category', 'subcategory', 'num_subscribers', 'number of subscribers of course catergory')\n",
    "# generate_categorical_based_on_numerical_feature_heatmap(RemovedOutlierDataset, 'category', 'subcategory', 'price', 'price of course catergory')"
   ]
  },
  {
   "cell_type": "code",
   "execution_count": 15,
   "metadata": {},
   "outputs": [],
   "source": [
    "# generate_numerical_categorical_scatter_plot(RemovedOutlierDataset, parameters)"
   ]
  },
  {
   "cell_type": "code",
   "execution_count": 16,
   "metadata": {},
   "outputs": [
    {
     "name": "stdout",
     "output_type": "stream",
     "text": [
      "Initialization method and algorithm are deterministic. Setting n_init to 1.\n",
      "Init: initializing centroids\n",
      "Init: initializing clusters\n",
      "Init: initializing centroids\n",
      "Init: initializing clusters\n",
      "Init: initializing centroids\n",
      "Init: initializing clusters\n",
      "Init: initializing centroids\n",
      "Init: initializing clusters\n",
      "Init: initializing centroids\n",
      "Init: initializing clusters\n",
      "Init: initializing centroids\n",
      "Init: initializing clusters\n",
      "Init: initializing centroids\n",
      "Init: initializing clusters\n",
      "Init: initializing centroids\n",
      "Init: initializing clusters\n",
      "Init: initializing centroids\n",
      "Init: initializing clusters\n",
      "Starting iterations...\n",
      "Run: 1, iteration: 1/100, moves: 20591, ncost: 3195075214.289594\n",
      "Run: 1, iteration: 2/100, moves: 12401, ncost: 2813343819.1675634\n",
      "Run: 1, iteration: 3/100, moves: 7813, ncost: 2628559414.096898\n"
     ]
    }
   ],
   "source": [
    "AddClusterDataset = generate_kprototype_clusters(RemovedOutlierDataset, parameters)"
   ]
  },
  {
   "cell_type": "code",
   "execution_count": null,
   "metadata": {},
   "outputs": [],
   "source": [
    "# generate_numerical_categorical_heatmap(AddClusterDataset)"
   ]
  },
  {
   "cell_type": "code",
   "execution_count": null,
   "metadata": {},
   "outputs": [],
   "source": [
    "# decision_tree_classier = generate_decision_tree_classifier(AddClusterDataset, parameters)"
   ]
  },
  {
   "cell_type": "code",
   "execution_count": null,
   "metadata": {},
   "outputs": [],
   "source": [
    "# generate_confusion_matrix(decision_tree_classier)"
   ]
  },
  {
   "cell_type": "code",
   "execution_count": null,
   "metadata": {},
   "outputs": [],
   "source": [
    "# generate_decision_tree(decision_tree_classier, parameters)"
   ]
  }
 ],
 "metadata": {
  "kernelspec": {
   "display_name": "sc1015",
   "language": "python",
   "name": "python3"
  },
  "language_info": {
   "codemirror_mode": {
    "name": "ipython",
    "version": 3
   },
   "file_extension": ".py",
   "mimetype": "text/x-python",
   "name": "python",
   "nbconvert_exporter": "python",
   "pygments_lexer": "ipython3",
   "version": "3.9.15"
  },
  "orig_nbformat": 4
 },
 "nbformat": 4,
 "nbformat_minor": 2
}
